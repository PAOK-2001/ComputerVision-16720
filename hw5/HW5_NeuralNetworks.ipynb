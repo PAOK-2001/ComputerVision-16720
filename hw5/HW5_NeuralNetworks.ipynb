{
 "cells": [
  {
   "cell_type": "markdown",
   "metadata": {
    "id": "PcohjPJpdtXn"
   },
   "source": [
    "# Homework 5: Neural Networks for Recognition\n",
    "\n",
    "#### **For each question please refer to the handout for more details.**\n",
    "\n",
    "Programming questions begin at **Q2**. **Remember to run all cells** and save the notebook to your local machine as a pdf for gradescope submission.\n"
   ]
  },
  {
   "cell_type": "markdown",
   "metadata": {
    "id": "HZ3ENHvRNMe0"
   },
   "source": [
    "Pablo Agustin Ortega Kral (portegak)\n",
    "---"
   ]
  },
  {
   "cell_type": "markdown",
   "metadata": {
    "id": "vxPtNfTRd_v2"
   },
   "source": [
    "# Q1 Theory\n"
   ]
  },
  {
   "cell_type": "markdown",
   "metadata": {
    "id": "gVBrea_DNsxI"
   },
   "source": [
    "## Q1.1 (3 points)\n",
    "\n",
    "Softmax is defined as below, for each index $i$ in a vector $x \\in \\mathbb{R}^d$.\n",
    "$$ softmax(x)_i = \\frac{e^{x_i}}{\\sum_j e^{x_j}} $$\n",
    "Prove that softmax is invariant to translation, that is\n",
    "$$ softmax(x) = softmax(x + c) \\quad \\forall c \\in \\mathbb{R}.$$    "
   ]
  },
  {
   "cell_type": "markdown",
   "metadata": {},
   "source": [
    "**A:**\n",
    "\n",
    "By expanding softmax we see that\n",
    "\n",
    "$$\\text{softmax}(x+c) = \\frac{e^{x_i + c}}{\\sum_j e^{x_j +c}}$$\n",
    "\n",
    "By separating the exponentiation sum, we can re-write as \n",
    "$$\\text{softmax}(x+c) = \\frac{e^{x_i} e^{c}}{\\sum_j e^{x_j} e^{c}}$$\n",
    "$$\\text{softmax}(x+c) = \\frac{e^{c} e^{x_i} }{e^{c} \\sum_j e^{x_j} }$$\n",
    "$$\\text{softmax}(x+c) = \\frac{e^{c}}{e^{c}} \\cdot \\frac{e^{x_i} }{ \\sum_j e^{x_j} } = 1 \\cdot \\frac{e^{x_i} }{ \\sum_j e^{x_j} }$$\n",
    "\n",
    "Therefore,\n",
    "\n",
    "$$\\text{softmax}(x+c) = \\text{softmax}(x)$$\n"
   ]
  },
  {
   "cell_type": "markdown",
   "metadata": {},
   "source": [
    "## Q1.1 (3 points)\n",
    "\n",
    "Often we use $c = -\\max x_i$. Why is that a good idea? (Tip: consider the range of values that numerator will have with $c=0$ and $c = -\\max x_i$)"
   ]
  },
  {
   "cell_type": "markdown",
   "metadata": {
    "id": "n8bGdRxTfaW6"
   },
   "source": [
    "**A:** By substracting the max we are esssentially limiting the magnitude that the numerator can take, given that is an exponentiation large numbers can result in high values and cause numerical inestability, floating point and overflow issues. \n",
    "\n",
    "By subtracting the maximum of the vector, the range of exponents for the numerator becomes $[\\text{min } x_i - \\text{max } x_i, 0]$, thus the maximum value of the numerator is capped at 1."
   ]
  },
  {
   "cell_type": "markdown",
   "metadata": {
    "id": "EwAQkjGhiTyj"
   },
   "source": [
    "## Q1.2\n",
    "\n",
    "Softmax can be written as a three-step process, with $s_i = e^{x_i}$, $S = \\sum s_i$ and $softmax(x)_i = \\frac{1}{S} s_i$."
   ]
  },
  {
   "cell_type": "markdown",
   "metadata": {
    "id": "0lLuyRJ_QrcU"
   },
   "source": [
    "### Q1.2.1 (1 point)\n",
    "\n",
    "As $x \\in \\mathbb{R}^d$, what are the properties of $softmax(x)$, namely what is the range of each element? What is the sum over all elements?"
   ]
  },
  {
   "cell_type": "markdown",
   "metadata": {
    "id": "QY3EjZ0mjCVF"
   },
   "source": [
    "**A:**\n",
    "\n",
    "- $s_i$ has the range of the exponential function, meaning that for any real $x_i$ $s_i > 0$. Thus, $s_i \\in (0, \\inf)$\n",
    "- $\\sum s_i$, given that is the sum of exponetials it shares the same range, however the denominator will be greator than any single term $S > s_i$\n",
    "- $\\frac{1}{S}s_i$, given that $S$ is greater than any $s_i$ the ratio must always be below 1, $\\frac{1}{S}s_i < 1$. Given that the numerator will never be 0.\n",
    "\n",
    "$$ \\frac{1}{S}s_i \\in (0,1) $$\n"
   ]
  },
  {
   "cell_type": "markdown",
   "metadata": {
    "id": "zEP3hCPRjOlK"
   },
   "source": [
    "### Q1.2.2 (1 point)\n",
    "\n",
    "One could say that softmax takes an arbitrary real valued vector $x$ and turns it into a **_probability distribution_**.\n",
    "\n"
   ]
  },
  {
   "cell_type": "markdown",
   "metadata": {
    "id": "TVSQbaa1jdPw"
   },
   "source": [
    "**A:** We can see that by applying each of the steps in softmax, the resulting elements comply with the properties of a probability distribution\n",
    "\n",
    "- All elements are positive.\n",
    "- Range is $(0,1)$\n",
    "- The sum of elements is 1 $\\sum_i \\text{softmax}(x) = 1$"
   ]
  },
  {
   "cell_type": "markdown",
   "metadata": {
    "id": "MyzagV0ejnFd"
   },
   "source": [
    "### Q1.2.3 (1 point)\n",
    "\n",
    "Now explain the role of each step in the multi-step process."
   ]
  },
  {
   "cell_type": "markdown",
   "metadata": {
    "id": "0C7xrhpsjvtY"
   },
   "source": [
    "**A:**\n",
    "\n",
    "- $s_i = e^{x_i}$ maps each element to a nonegative space, where increasing $x_i$ results in increasing the magnitude of $s_i$.\n",
    "\n",
    "- $S = \\sum s_i$ provides a normalization term. By taking the sum of the exponentiation, we ensure that no single element of $s_i$ will be larger than $S$ and therefore the ration will always be below 1.\n",
    "\n",
    "- $1/S s_i$ by applying the normalization term we ensure that each element is the resulting vector is a nonegative in the range $(0,1)$ and will sum up to 1."
   ]
  },
  {
   "cell_type": "markdown",
   "metadata": {
    "id": "JC4KViegj4gB"
   },
   "source": [
    "## Q1.3 (3 points)\n",
    "\n",
    "Show that multi-layer neural networks without a non-linear activation function are equivalent to linear regression.\n",
    "\n",
    "\n"
   ]
  },
  {
   "cell_type": "markdown",
   "metadata": {
    "id": "ov_We6Y8kVtQ"
   },
   "source": [
    "**A:** A multilayer network with no non-linear action function between layers is a single linear transformation. Assuming a network with $L$ layers, \n",
    "\n",
    "$$ y = W^L(W^{L-1}(\\dots (W^1x + b^{1})) + b^{L-1}) + b^L$$\n",
    "\n",
    "The matrix of weights can be all combined into an effective weight matrix, as well as the bias vectors.\n",
    "\n",
    "$$ y = Wx + b$$\n",
    "\n",
    "Thefore, by trainig this nework, we are essentially solving the linear regresion problem."
   ]
  },
  {
   "cell_type": "markdown",
   "metadata": {
    "id": "o8Flb0zAkZuc"
   },
   "source": [
    "## Q1.4 (3 points)\n",
    "\n",
    "Given the sigmoid activation function $\\sigma(x) = \\frac{1}{1+e^{-x}}$, derive the gradient of the sigmoid function and show that it can be written as a function of $\\sigma(x)$ (without having access to $x$ directly)."
   ]
  },
  {
   "cell_type": "markdown",
   "metadata": {
    "id": "7pvielTIkj3k"
   },
   "source": [
    "**A:** Applying the chain rule,\n",
    "\n",
    "$$ \\frac{d}{dx} \\sigma (x) = \\frac{e^{-x}}{(1+e^{-x})^2}$$\n",
    "\n",
    "Expanding, \n",
    "\n",
    "$$ \\frac{d}{dx} \\sigma (x) = \\frac{e^{-x}}{1+e^{-x}} \\frac{1}{1+e^{-x}}$$\n",
    "\n",
    "We can further express \n",
    "\n",
    "$$ \\frac{e^{-x}}{1+e^{-x}} =  \\frac{(1+e^{-x}) -1}{1+e^{-x}} = \\frac{(1+e^{-x})}{1+e^{-x}} - \\frac{1}{1+e^{-x}} = 1 - \\frac{1}{1+e^{-x}}$$\n",
    "\n",
    "$$ \\frac{d}{dx} \\sigma (x) = (1 - \\frac{1}{1+e^{-x}})\\frac{1}{1+e^{-x}}$$\n",
    "\n",
    "We can then subsitute $\\sigma (x)$ into the expression such that,\n",
    "\n",
    "$$ \\frac{d}{dx} \\sigma (x) = (1 - \\sigma (x)) \\sigma (x)$$\n",
    "\n",
    "Therefore, the derivative of sigma can be expressed entirely in terms of itself, without needing access to $x$.\n"
   ]
  },
  {
   "cell_type": "markdown",
   "metadata": {
    "id": "TRfJcVgIkse3"
   },
   "source": [
    "## Q1.5 (12 points)\n",
    "\n",
    "Given $y = Wx + b$ (or $y_i = \\sum_{j=1}^d  x_{j} W_{ij} + b_i$), and the gradient of some loss $J$ (a scalar) with respect to $y$, show how to get the gradients $\\frac{\\partial J}{\\partial W}$, $\\frac{\\partial J}{\\partial x}$ and $\\frac{\\partial J}{\\partial b}$. Be sure to do the derivatives with scalars and re-form the matrix form afterwards. Here are some notional suggestions.\n",
    "$$ x \\in \\mathbb{R}^{d \\times 1} \\quad y \\in \\mathbb{R}^{k \\times 1} \\quad W \\in \\mathbb{R}^{k \\times d} \\quad b \\in \\mathbb{R}^{k \\times 1} \\quad \\frac{\\partial J}{\\partial y} = \\delta \\in \\mathbb{R}^{k \\times 1} $$"
   ]
  },
  {
   "cell_type": "markdown",
   "metadata": {
    "id": "jwht2EJvlHs6"
   },
   "source": [
    "---\n",
    "\n",
    "YOUR ANSWER HERE...\n",
    "\n",
    "---"
   ]
  },
  {
   "cell_type": "markdown",
   "metadata": {
    "id": "90MKQWDOfJ4O"
   },
   "source": [
    "## Q1.6\n",
    "When the neural network applies the elementwise activation function (such as sigmoid), the gradient of the activation function scales the backpropogation update. This is directly from the chain rule, $\\frac{d}{d x} f(g(x)) = f'(g(x)) g'(x)$."
   ]
  },
  {
   "cell_type": "markdown",
   "metadata": {
    "id": "ozWYiNGTlTIU"
   },
   "source": [
    "### Q1.6.1 (1 point)\n",
    "\n",
    "Consider the sigmoid activation function for deep neural networks. Why might it lead to a \"vanishing gradient\" problem if it is used for many layers (consider plotting the gradient you derived in Q1.4)?"
   ]
  },
  {
   "cell_type": "markdown",
   "metadata": {
    "id": "HbXpahyMlj8r"
   },
   "source": [
    "---\n",
    "\n",
    "YOUR ANSWER HERE...\n",
    "\n",
    "---"
   ]
  },
  {
   "cell_type": "markdown",
   "metadata": {
    "id": "riqojST1lnoS"
   },
   "source": [
    "### Q1.6.2 (1 point)\n",
    "Often it is replaced with $\\tanh(x) = \\frac{1-e^{-2x}}{1+e^{-2x}}$. What are the output ranges of both $\\tanh$ and sigmoid? Why might we prefer $\\tanh$?"
   ]
  },
  {
   "cell_type": "markdown",
   "metadata": {
    "id": "93ELzc12l3ya"
   },
   "source": [
    "---\n",
    "\n",
    "YOUR ANSWER HERE...\n",
    "\n",
    "---"
   ]
  },
  {
   "cell_type": "markdown",
   "metadata": {
    "id": "hnTfGXcrl_Oc"
   },
   "source": [
    "### Q1.6.3 (1 point)\n",
    "Why does $\\tanh(x)$ have less of a vanishing gradient problem? (plotting the gradients helps! for reference: $\\tanh'(x) = 1 - \\tanh(x)^2$)"
   ]
  },
  {
   "cell_type": "markdown",
   "metadata": {
    "id": "SxSA6uxRmKL-"
   },
   "source": [
    "---\n",
    "\n",
    "YOUR ANSWER HERE...\n",
    "\n",
    "---"
   ]
  },
  {
   "cell_type": "markdown",
   "metadata": {
    "id": "x3GaT-ZumRdA"
   },
   "source": [
    "### Q1.6.4 (1 point)\n",
    "$\\tanh$ is a scaled and shifted version of the sigmoid. Show how $\\tanh(x)$ can be written in terms of $\\sigma(x)$."
   ]
  },
  {
   "cell_type": "markdown",
   "metadata": {
    "id": "U6O2FQxYmWzR"
   },
   "source": [
    "---\n",
    "\n",
    "YOUR ANSWER HERE...\n",
    "\n",
    "---\n"
   ]
  },
  {
   "cell_type": "markdown",
   "metadata": {
    "id": "yTtEm_BsiBa9"
   },
   "source": [
    "# Q2 Implement a Fully Connected Network\n",
    "\n",
    "Run the following code to import the modules you'll need. When implementing the functions in Q2, make sure you run the test code (provided after Q2.3) along the way to check if your implemented functions work as expected."
   ]
  },
  {
   "cell_type": "code",
   "execution_count": null,
   "metadata": {
    "id": "nT0pjHBzJjHd"
   },
   "outputs": [],
   "source": [
    "import os\n",
    "import numpy as np\n",
    "import scipy.io\n",
    "import matplotlib.pyplot as plt\n",
    "import matplotlib.patches\n",
    "from mpl_toolkits.axes_grid1 import ImageGrid\n",
    "\n",
    "import skimage\n",
    "import skimage.measure\n",
    "import skimage.color\n",
    "import skimage.restoration\n",
    "import skimage.filters\n",
    "import skimage.morphology\n",
    "import skimage.segmentation"
   ]
  },
  {
   "cell_type": "markdown",
   "metadata": {
    "id": "hn2ROCmuiK3i"
   },
   "source": [
    "## Q2.1 Network Initialization"
   ]
  },
  {
   "cell_type": "markdown",
   "metadata": {
    "id": "GhVvjmznihUr"
   },
   "source": [
    "### Q2.1.1 (3 points)\n",
    "\n",
    "Why is it not a good idea to initialize a network with all zeros? If you imagine that every layer has weights and biases, what can a zero-initialized network output be after training?"
   ]
  },
  {
   "cell_type": "markdown",
   "metadata": {
    "id": "0B7sAkKJiwVX"
   },
   "source": [
    "---\n",
    "\n",
    "YOUR ANSWER HERE...\n",
    "\n",
    "---"
   ]
  },
  {
   "cell_type": "markdown",
   "metadata": {
    "id": "qv9dtEXCjf_R"
   },
   "source": [
    "### Q2.1.2 (3 points)\n",
    "\n",
    "Implement the initialize_weights() function to initialize the weights for a single layer with Xavier initialization, where $Var[w] = \\frac{2}{n_{in}+ n_{out}} $ where $n$ is the dimensionality of the vectors and you use a uniform distribution to sample random numbers (see eq 16 in [Glorot et al])."
   ]
  },
  {
   "cell_type": "code",
   "execution_count": null,
   "metadata": {
    "id": "VX7OdRphj2XE"
   },
   "outputs": [],
   "source": [
    "############################## Q 2.1.2 ##############################\n",
    "def initialize_weights(in_size,out_size,params,name=''):\n",
    "    \"\"\"\n",
    "    we will do XW + b, with the size of the input data array X being [number of examples, in_size]\n",
    "    the weights W should be initialized as a 2D array\n",
    "    the bias vector b should be initialized as a 1D array, not a 2D array with a singleton dimension\n",
    "    the output of this layer should be in size [number of examples, out_size]\n",
    "    \"\"\"\n",
    "    W, b = None, None\n",
    "\n",
    "    ##########################\n",
    "    ##### your code here #####\n",
    "    ##########################\n",
    "\n",
    "\n",
    "    params['W' + name] = W\n",
    "    params['b' + name] = b"
   ]
  },
  {
   "cell_type": "markdown",
   "metadata": {
    "id": "KUGYc0XCn4rk"
   },
   "source": [
    "### Q2.1.3 (2 points)\n",
    "\n",
    "Why do we scale the initialization depending on layer size (see Fig 6 in the [Glorot et al])?"
   ]
  },
  {
   "cell_type": "markdown",
   "metadata": {
    "id": "nL1GJX7CoDP0"
   },
   "source": [
    "---\n",
    "\n",
    "YOUR ANSWER HERE...\n",
    "\n",
    "---"
   ]
  },
  {
   "cell_type": "markdown",
   "metadata": {
    "id": "TAQJJ247pRZ2"
   },
   "source": [
    "## Q2.2 Forward Propagation"
   ]
  },
  {
   "cell_type": "markdown",
   "metadata": {
    "id": "9AzMm0dnpbLo"
   },
   "source": [
    "### Q2.2.1 (4 points)\n",
    "\n",
    "Implement the sigmoid() function, which computes the elementwise sigmoid activation of entries in an input array. Then implement the forward() function which computes forward propagation for a single layer, namely $y = \\sigma(X W + b)$."
   ]
  },
  {
   "cell_type": "code",
   "execution_count": null,
   "metadata": {
    "id": "LCyYmPNUqHof"
   },
   "outputs": [],
   "source": [
    "############################## Q 2.2.1 ##############################\n",
    "def sigmoid(x):\n",
    "    \"\"\"\n",
    "    Implement an elementwise sigmoid activation function on the input x,\n",
    "    where x is a numpy array of size [number of examples, number of output dimensions]\n",
    "    \"\"\"\n",
    "    res = None\n",
    "\n",
    "    ##########################\n",
    "    ##### your code here #####\n",
    "    ##########################\n",
    "\n",
    "\n",
    "    return res"
   ]
  },
  {
   "cell_type": "code",
   "execution_count": null,
   "metadata": {
    "id": "3xg4aSq4p-Eq"
   },
   "outputs": [],
   "source": [
    "############################## Q 2.2.1 ##############################\n",
    "def forward(X,params,name='',activation=sigmoid):\n",
    "    \"\"\"\n",
    "    Do a forward pass for a single layer that computes the output: activation(XW + b)\n",
    "\n",
    "    Keyword arguments:\n",
    "    X -- input numpy array of size [number of examples, number of input dimensions]\n",
    "    params -- a dictionary containing parameters, as how you initialized in Q 2.1.2\n",
    "    name -- name of the layer\n",
    "    activation -- the activation function (default is sigmoid)\n",
    "    \"\"\"\n",
    "    # compute the output values before and after the activation function\n",
    "    pre_act, post_act = None, None\n",
    "    # get the layer parameters\n",
    "    W = params['W' + name]\n",
    "    b = params['b' + name]\n",
    "\n",
    "\n",
    "    ##########################\n",
    "    ##### your code here #####\n",
    "    ##########################\n",
    "\n",
    "\n",
    "    # store the pre-activation and post-activation values\n",
    "    # these will be important in backpropagation\n",
    "    params['cache_' + name] = (X, pre_act, post_act)\n",
    "\n",
    "    return post_act"
   ]
  },
  {
   "cell_type": "markdown",
   "metadata": {
    "id": "pg2eLRDfr3Gd"
   },
   "source": [
    "### Q2.2.2 (3 points)\n",
    "\n",
    "Implement the softmax() function. Be sure to use the numerical stability trick you derived in Q1.1 softmax."
   ]
  },
  {
   "cell_type": "code",
   "execution_count": null,
   "metadata": {
    "id": "9DpxFAHssNxB"
   },
   "outputs": [],
   "source": [
    "############################## Q 2.2.2  ##############################\n",
    "def softmax(x):\n",
    "    \"\"\"\n",
    "    x is a numpy array of size [number of examples, number of classes]\n",
    "    softmax should be done for each row\n",
    "    \"\"\"\n",
    "    res = None\n",
    "\n",
    "    ##########################\n",
    "    ##### your code here #####\n",
    "    ##########################\n",
    "\n",
    "\n",
    "    return res"
   ]
  },
  {
   "cell_type": "markdown",
   "metadata": {
    "id": "cTUXP5WcNBll"
   },
   "source": [
    "### Q2.2.3 (3 points)\n",
    "\n",
    "Implement the compute_loss_and_acc() function to compute the accuracy given a set of labels, along with the scalar loss across the data. The loss function generally used for classification is the cross-entropy loss.\n",
    "\n",
    "$$L_{f}(\\mathbf{D}) = - \\sum_{(x, y)\\in \\mathbf{D}}y \\cdot \\log(f(x))$$\n",
    "\n",
    "Here $\\mathbf{D}$ is the full training dataset of $N$ data samples $x$ (which are $D \\times 1$ vectors, $D$ is the dimensionality of data) and labels $y$ (which are $C\\times 1$ one-hot vectors, $C$ is the number of classes), and $f:\\mathbb{R}^D\\to[0,1]^C$ is the classifier which outputs the probabilities for the classes.\n",
    "The $\\log$ is the natural $\\log$."
   ]
  },
  {
   "cell_type": "code",
   "execution_count": null,
   "metadata": {
    "id": "kd3f9MSYOM0J"
   },
   "outputs": [],
   "source": [
    "############################## Q 2.2.3 ##############################\n",
    "def compute_loss_and_acc(y, probs):\n",
    "    \"\"\"\n",
    "    compute total loss and accuracy\n",
    "\n",
    "    Keyword arguments:\n",
    "    y -- the labels, which is a numpy array of size [number of examples, number of classes]\n",
    "    probs -- the probabilities output by the classifier, i.e. f(x), which is a numpy array of size [number of examples, number of classes]\n",
    "    \"\"\"\n",
    "    loss, acc = None, None\n",
    "\n",
    "    ##########################\n",
    "    ##### your code here #####\n",
    "    ##########################\n",
    "\n",
    "\n",
    "    return loss, acc"
   ]
  },
  {
   "cell_type": "markdown",
   "metadata": {
    "id": "H4_NIHjVQe6N"
   },
   "source": [
    "## Q2.3 Backwards Propagation"
   ]
  },
  {
   "cell_type": "markdown",
   "metadata": {
    "id": "PI0ZrHe4QsO-"
   },
   "source": [
    "### Q2.3 (7 points)\n",
    "\n",
    "Implement the backwards() function to compute backpropagation for a single layer, given the original weights, the appropriate intermediate results, and the gradient with respect to the loss. You should return the gradient with respect to the inputs (grad_X) so that it can be used in the backpropagation for the previous layer. As a size check, your gradients should have the same dimensions as the original objects.\n"
   ]
  },
  {
   "cell_type": "code",
   "execution_count": null,
   "metadata": {
    "id": "WVvhSlnxQ7f6"
   },
   "outputs": [],
   "source": [
    "############################## Q 2.3 ##############################\n",
    "def sigmoid_deriv(post_act):\n",
    "    \"\"\"\n",
    "    we give this to you, because you proved it in Q1.4\n",
    "    it's a function of the post-activation values (post_act)\n",
    "    \"\"\"\n",
    "    res = post_act*(1.0-post_act)\n",
    "    return res\n",
    "\n",
    "def backwards(delta,params,name='',activation_deriv=sigmoid_deriv):\n",
    "    \"\"\"\n",
    "    Do a backpropagation pass for a single layer.\n",
    "\n",
    "    Keyword arguments:\n",
    "    delta -- gradients of the loss with respect to the outputs (errors to back propagate), in [number of examples, number of output dimensions]\n",
    "    params -- a dictionary containing parameters, as how you initialized in Q 2.1.2\n",
    "    name -- name of the layer\n",
    "    activation_deriv -- the derivative of the activation function\n",
    "    \"\"\"\n",
    "    grad_X, grad_W, grad_b = None, None, None\n",
    "    # everything you may need for this layer\n",
    "    W = params['W' + name]\n",
    "    b = params['b' + name]\n",
    "    X, pre_act, post_act = params['cache_' + name]\n",
    "\n",
    "    # by the chain rule, do the derivative through activation first\n",
    "    # (don't forget activation_deriv is a function of post_act)\n",
    "    # then compute the gradients w.r.t W, b, and X\n",
    "    ##########################\n",
    "    ##### your code here #####\n",
    "    ##########################\n",
    "\n",
    "\n",
    "    # store the gradients\n",
    "    params['grad_W' + name] = grad_W\n",
    "    params['grad_b' + name] = grad_b\n",
    "    return grad_X"
   ]
  },
  {
   "cell_type": "markdown",
   "metadata": {
    "id": "EXlcvTqnUmRp"
   },
   "source": [
    "Make sure you run below test code along the way to check if your implemented functions work as expected."
   ]
  },
  {
   "cell_type": "code",
   "execution_count": null,
   "metadata": {
    "id": "j_-d1LydiSG6"
   },
   "outputs": [],
   "source": [
    "def linear(x):\n",
    "    # Define a linear activation, which can be used to construct a \"no activation\" layer\n",
    "    return x\n",
    "\n",
    "def linear_deriv(post_act):\n",
    "    return np.ones_like(post_act)"
   ]
  },
  {
   "cell_type": "code",
   "execution_count": null,
   "metadata": {
    "colab": {
     "base_uri": "https://localhost:8080/"
    },
    "executionInfo": {
     "elapsed": 3,
     "status": "ok",
     "timestamp": 1711076133887,
     "user": {
      "displayName": "Xinyu Li",
      "userId": "09039469784461782839"
     },
     "user_tz": 240
    },
    "id": "vnmPGUYtQKTU",
    "outputId": "9b15a35a-bfff-4754-cd3c-2246132bfa3b"
   },
   "outputs": [],
   "source": [
    "# test code\n",
    "# generate some fake data\n",
    "# feel free to plot it in 2D, what do you think these 4 classes are?\n",
    "g0 = np.random.multivariate_normal([3.6,40],[[0.05,0],[0,10]],10)\n",
    "g1 = np.random.multivariate_normal([3.9,10],[[0.01,0],[0,5]],10)\n",
    "g2 = np.random.multivariate_normal([3.4,30],[[0.25,0],[0,5]],10)\n",
    "g3 = np.random.multivariate_normal([2.0,10],[[0.5,0],[0,10]],10)\n",
    "x = np.vstack([g0,g1,g2,g3])\n",
    "\n",
    "# we will do XW + B in the forward pass\n",
    "# this implies that the data X is in [number of examples, number of input dimensions]\n",
    "\n",
    "# create labels\n",
    "y_idx = np.array([0 for _ in range(10)] + [1 for _ in range(10)] + [2 for _ in range(10)] + [3 for _ in range(10)])\n",
    "# turn to one-hot encoding, this implies that the labels y is in [number of examples, number of classes]\n",
    "y = np.zeros((y_idx.shape[0],y_idx.max()+1))\n",
    "y[np.arange(y_idx.shape[0]),y_idx] = 1\n",
    "print(\"data shape: {} labels shape: {}\".format(x.shape, y.shape))\n",
    "\n",
    "# parameters in a dictionary\n",
    "params = {}\n",
    "\n",
    "# Q 2.1.2\n",
    "# we will build a two-layer neural network\n",
    "# first, initialize the weights and biases for the two layers\n",
    "# the first layer, in_size = 2 (the dimension of the input data), out_size = 25 (number of neurons)\n",
    "initialize_weights(2,25,params,'layer1')\n",
    "# the output layer, in_size = 25 (number of neurons), out_size = 4 (number of classes)\n",
    "initialize_weights(25,4,params,'output')\n",
    "assert(params['Wlayer1'].shape == (2,25))\n",
    "assert(params['blayer1'].shape == (25,))\n",
    "assert(params['Woutput'].shape == (25,4))\n",
    "assert(params['boutput'].shape == (4,))\n",
    "\n",
    "# with Xavier initialization\n",
    "# expect the means close to 0, variances in range [0.05 to 0.12]\n",
    "print(\"Q 2.1.2: {}, {:.2f}\".format(params['blayer1'].mean(),params['Wlayer1'].std()**2))\n",
    "print(\"Q 2.1.2: {}, {:.2f}\".format(params['boutput'].mean(),params['Woutput'].std()**2))\n",
    "\n",
    "# Q 2.2.1\n",
    "# implement sigmoid\n",
    "# there might be an overflow warning due to exp(1000)\n",
    "test = sigmoid(np.array([-1000,1000]))\n",
    "print('Q 2.2.1: sigmoid outputs should be zero and one\\t',test.min(),test.max())\n",
    "# a forward pass on the first layer, with sigmoid activation\n",
    "h1 = forward(x,params,'layer1',sigmoid)\n",
    "assert(h1.shape == (40, 25))\n",
    "\n",
    "# Q 2.2.2\n",
    "# implement softmax\n",
    "# a forward pass on the second layer (the output layer), with softmax so that the outputs are class probabilities\n",
    "probs = forward(h1,params,'output',softmax)\n",
    "# make sure you understand these values!\n",
    "# should be positive, 1 (or very close to 1), 1 (or very close to 1)\n",
    "print('Q 2.2.2:',probs.min(),min(probs.sum(1)),max(probs.sum(1)))\n",
    "assert(probs.shape == (40,4))\n",
    "\n",
    "# Q 2.2.3\n",
    "# implement compute_loss_and_acc\n",
    "loss, acc = compute_loss_and_acc(y, probs)\n",
    "# should be around -np.log(0.25)*40 [~55] or higher, and 0.25\n",
    "# if it is not, check softmax!\n",
    "print(\"Q 2.2.3 loss: {}, acc:{:.2f}\".format(loss,acc))\n",
    "\n",
    "# Q 2.3\n",
    "# here we cheat for you, you can use it in the training loop in Q2.4\n",
    "# the derivative of cross-entropy(softmax(x)) is probs - 1[correct actions]\n",
    "delta1 = probs - y\n",
    "\n",
    "# backpropagation for the output layer\n",
    "# we already did derivative through softmax when computing delta1 as above\n",
    "# so we pass in a linear_deriv, which is just a vector of ones to make this a no-op\n",
    "delta2 = backwards(delta1,params,'output',linear_deriv)\n",
    "# backpropagation for the first layer\n",
    "backwards(delta2,params,'layer1',sigmoid_deriv)\n",
    "\n",
    "# the sizes of W and b should match the sizes of their gradients\n",
    "for k,v in sorted(list(params.items())):\n",
    "    if 'grad' in k:\n",
    "        name = k.split('_')[1]\n",
    "        # print the size of the gradient and the size of the parameter, the two sizes should be the same\n",
    "        print('Q 2.3',name,v.shape, params[name].shape)"
   ]
  },
  {
   "cell_type": "markdown",
   "metadata": {
    "id": "BEKUvkHFpjPB"
   },
   "source": [
    "## Q2.4 Training Loop: Stochastic Gradient Descent"
   ]
  },
  {
   "cell_type": "markdown",
   "metadata": {
    "id": "tguaFmjxT_jw"
   },
   "source": [
    "### Q2.4 (5 points)\n",
    "Implement the get_random_batches() function that takes the entire dataset (x and y) as input and splits it into random batches. Write a training loop that iterates over the batches, does forward and backward propagation, and applies a gradient update. The provided code samples batch only once, but it is also common to sample new random batches at each epoch. You may optionally try both strategies and note any difference in performance."
   ]
  },
  {
   "cell_type": "code",
   "execution_count": null,
   "metadata": {
    "id": "mf6nhd3IOFjh"
   },
   "outputs": [],
   "source": [
    "############################## Q 2.4 ##############################\n",
    "def get_random_batches(x,y,batch_size):\n",
    "    \"\"\"\n",
    "    split x (data) and y (labels) into random batches\n",
    "    return a list of [(batch1_x,batch1_y)...]\n",
    "    \"\"\"\n",
    "    batches = []\n",
    "\n",
    "    ##########################\n",
    "    ##### your code here #####\n",
    "    ##########################\n",
    "\n",
    "\n",
    "    return batches"
   ]
  },
  {
   "cell_type": "code",
   "execution_count": null,
   "metadata": {
    "colab": {
     "base_uri": "https://localhost:8080/"
    },
    "executionInfo": {
     "elapsed": 3,
     "status": "ok",
     "timestamp": 1711076133888,
     "user": {
      "displayName": "Xinyu Li",
      "userId": "09039469784461782839"
     },
     "user_tz": 240
    },
    "id": "bVLgxxAvPO-b",
    "outputId": "19f831c0-8772-4cc2-f4a9-ba5f409aea43"
   },
   "outputs": [],
   "source": [
    "# Q 2.4\n",
    "batches = get_random_batches(x,y,5)\n",
    "batch_num = len(batches)\n",
    "# print batch sizes\n",
    "print([_[0].shape[0] for _ in batches])\n",
    "print(batch_num)"
   ]
  },
  {
   "cell_type": "code",
   "execution_count": null,
   "metadata": {
    "colab": {
     "base_uri": "https://localhost:8080/"
    },
    "executionInfo": {
     "elapsed": 646,
     "status": "ok",
     "timestamp": 1711076134531,
     "user": {
      "displayName": "Xinyu Li",
      "userId": "09039469784461782839"
     },
     "user_tz": 240
    },
    "id": "oH7JWuCAU2Di",
    "outputId": "d2a588e8-c63b-43b6-8122-67daf99d1b39"
   },
   "outputs": [],
   "source": [
    "############################## Q 2.4 ##############################\n",
    "# WRITE A TRAINING LOOP HERE\n",
    "max_iters = 500\n",
    "learning_rate = 1e-3\n",
    "# with default settings, you should get loss <= 35 and accuracy >= 75%\n",
    "for itr in range(max_iters):\n",
    "    total_loss = 0\n",
    "    avg_acc = 0\n",
    "    for xb,yb in batches:\n",
    "        ##########################\n",
    "        ##### your code here #####\n",
    "        ##########################\n",
    "        # forward\n",
    "\n",
    "\n",
    "        # loss\n",
    "        # be sure to add loss and accuracy to epoch totals\n",
    "\n",
    "\n",
    "        # backward\n",
    "\n",
    "\n",
    "        # apply gradient to update the parameters\n",
    "\n",
    "\n",
    "\n",
    "    if itr % 100 == 0:\n",
    "        print(\"itr: {:02d} \\t loss: {:.2f} \\t acc : {:.2f}\".format(itr,total_loss,avg_acc))"
   ]
  },
  {
   "cell_type": "markdown",
   "metadata": {
    "id": "1ZfeCRPGfBrY"
   },
   "source": [
    "# Q3 Training Models\n",
    "\n",
    "Run below code to download and put the unzipped data in '/content/data' folder.\n",
    "\n",
    "We have provided you three data .mat files to use for this section.\n",
    "The training data in nist36_train.mat contains samples for each of the 26 upper-case letters of the alphabet and the 10 digits. This is the set you should use for training your network.\n",
    "The cross-validation set in nist36_valid.mat contains samples from each class, and should be used in the training loop to see how the network is performing on data that it is not training on. This will help to spot overfitting.\n",
    "Finally, the test data in nist36_test.mat contains testing data, and should be used for the final evaluation of your best model to see how well it will generalize to new unseen data."
   ]
  },
  {
   "cell_type": "code",
   "execution_count": null,
   "metadata": {
    "id": "6_6ehqPJg7AR"
   },
   "outputs": [],
   "source": [
    "if not os.path.exists('/content/data'):\n",
    "  os.mkdir('/content/data')\n",
    "  !wget http://www.cs.cmu.edu/~lkeselma/16720a_data/data.zip -O /content/data/data.zip\n",
    "  !unzip \"/content/data/data.zip\" -d \"/content/data\"\n",
    "  os.system(\"rm /content/data/data.zip\")"
   ]
  },
  {
   "cell_type": "code",
   "execution_count": null,
   "metadata": {
    "colab": {
     "base_uri": "https://localhost:8080/"
    },
    "executionInfo": {
     "elapsed": 3,
     "status": "ok",
     "timestamp": 1711076134531,
     "user": {
      "displayName": "Xinyu Li",
      "userId": "09039469784461782839"
     },
     "user_tz": 240
    },
    "id": "an8MYapMhaei",
    "outputId": "bdb3b5a3-aa2b-4259-d849-a9192d1ca2a7"
   },
   "outputs": [],
   "source": [
    "ls /content/data"
   ]
  },
  {
   "cell_type": "markdown",
   "metadata": {
    "id": "EHQYXcdLf8dJ"
   },
   "source": [
    "## Q3.1 (5 points)\n",
    "\n",
    "Train a network from scratch. Use a single hidden layer with 64 hidden units, and train for at least 50 epochs. The script will generate two plots:\n",
    "    \n",
    "(1) the accuracy on both the training and validation set over the epochs, and\n",
    "    \n",
    "(2) the cross-entropy loss averaged over the data.\n",
    "    \n",
    "Tune the batch size and learning rate for accuracy on the validation set of at least 75\\%. Hint: Use fixed random seeds to improve reproducibility."
   ]
  },
  {
   "cell_type": "code",
   "execution_count": null,
   "metadata": {
    "colab": {
     "base_uri": "https://localhost:8080/",
     "height": 430
    },
    "executionInfo": {
     "elapsed": 1568,
     "status": "ok",
     "timestamp": 1711076136098,
     "user": {
      "displayName": "Xinyu Li",
      "userId": "09039469784461782839"
     },
     "user_tz": 240
    },
    "id": "UjgNQIV_f3zK",
    "outputId": "30de16f5-8b26-40b4-9fa5-5f95bee0cf67"
   },
   "outputs": [],
   "source": [
    "train_data = scipy.io.loadmat('/content/data/nist36_train.mat')\n",
    "valid_data = scipy.io.loadmat('/content/data/nist36_valid.mat')\n",
    "test_data = scipy.io.loadmat('/content/data/nist36_test.mat')\n",
    "\n",
    "train_x, train_y = train_data['train_data'], train_data['train_labels']\n",
    "valid_x, valid_y = valid_data['valid_data'], valid_data['valid_labels']\n",
    "test_x, test_y = test_data['test_data'], test_data['test_labels']\n",
    "\n",
    "if True: # view the data\n",
    "    for crop in train_x:\n",
    "        plt.imshow(crop.reshape(32,32).T, cmap=\"Greys\")\n",
    "        plt.show()\n",
    "        break"
   ]
  },
  {
   "cell_type": "code",
   "execution_count": null,
   "metadata": {
    "colab": {
     "base_uri": "https://localhost:8080/"
    },
    "executionInfo": {
     "elapsed": 28856,
     "status": "ok",
     "timestamp": 1711076164952,
     "user": {
      "displayName": "Xinyu Li",
      "userId": "09039469784461782839"
     },
     "user_tz": 240
    },
    "id": "FTHdbIAHqc98",
    "outputId": "733659f5-5c30-41e3-87dc-1d459e87a1ec"
   },
   "outputs": [],
   "source": [
    "############################## Q 3.1 ##############################\n",
    "max_iters = 50\n",
    "# pick a batch size, learning rate\n",
    "batch_size = None\n",
    "learning_rate = None\n",
    "hidden_size = 64\n",
    "##########################\n",
    "##### your code here #####\n",
    "##########################\n",
    "\n",
    "\n",
    "batches = get_random_batches(train_x,train_y,batch_size)\n",
    "batch_num = len(batches)\n",
    "\n",
    "params = {}\n",
    "\n",
    "# initialize layers\n",
    "initialize_weights(train_x.shape[1], hidden_size, params, \"layer1\")\n",
    "initialize_weights(hidden_size, train_y.shape[1], params, \"output\")\n",
    "layer1_W_initial = np.copy(params[\"Wlayer1\"]) # copy for Q3.3\n",
    "\n",
    "train_loss = []\n",
    "valid_loss = []\n",
    "train_acc = []\n",
    "valid_acc = []\n",
    "for itr in range(max_iters):\n",
    "    # record training and validation loss and accuracy for plotting\n",
    "    h1 = forward(train_x,params,'layer1',sigmoid)\n",
    "    probs = forward(h1,params,'output',softmax)\n",
    "    loss, acc = compute_loss_and_acc(train_y, probs)\n",
    "    train_loss.append(loss/train_x.shape[0])\n",
    "    train_acc.append(acc)\n",
    "\n",
    "    h1 = forward(valid_x,params,'layer1',sigmoid)\n",
    "    probs = forward(h1,params,'output',softmax)\n",
    "    loss, acc = compute_loss_and_acc(valid_y, probs)\n",
    "    valid_loss.append(loss/valid_x.shape[0])\n",
    "    valid_acc.append(acc)\n",
    "\n",
    "    total_loss = 0\n",
    "    avg_acc = 0\n",
    "    for xb,yb in batches:\n",
    "        # training loop can be exactly the same as q2!\n",
    "        ##########################\n",
    "        ##### your code here #####\n",
    "        ##########################\n",
    "\n",
    "\n",
    "    if itr % 2 == 0:\n",
    "        print(\"itr: {:02d}   loss: {:.2f}   acc: {:.2f}\".format(itr,total_loss,avg_acc))\n",
    "\n",
    "# record final training and validation accuracy and loss\n",
    "h1 = forward(train_x,params,'layer1',sigmoid)\n",
    "probs = forward(h1,params,'output',softmax)\n",
    "loss, acc = compute_loss_and_acc(train_y, probs)\n",
    "train_loss.append(loss/train_x.shape[0])\n",
    "train_acc.append(acc)\n",
    "\n",
    "h1 = forward(valid_x,params,'layer1',sigmoid)\n",
    "probs = forward(h1,params,'output',softmax)\n",
    "loss, acc = compute_loss_and_acc(valid_y, probs)\n",
    "valid_loss.append(loss/valid_x.shape[0])\n",
    "valid_acc.append(acc)\n",
    "\n",
    "# report validation accuracy; aim for 75%\n",
    "print('Validation accuracy: ', valid_acc[-1])\n",
    "\n",
    "# compute and report test accuracy\n",
    "h1 = forward(test_x,params,'layer1',sigmoid)\n",
    "test_probs = forward(h1,params,'output',softmax)\n",
    "_, test_acc = compute_loss_and_acc(test_y, test_probs)\n",
    "print('Test accuracy: ', test_acc)"
   ]
  },
  {
   "cell_type": "code",
   "execution_count": null,
   "metadata": {
    "id": "vejbz8LDsjnu"
   },
   "outputs": [],
   "source": [
    "# save the final network\n",
    "import pickle\n",
    "\n",
    "saved_params = {k:v for k,v in params.items() if '_' not in k}\n",
    "with open('/content/q3_weights.pickle', 'wb') as handle:\n",
    "  pickle.dump(saved_params, handle, protocol=pickle.HIGHEST_PROTOCOL)"
   ]
  },
  {
   "cell_type": "code",
   "execution_count": null,
   "metadata": {
    "colab": {
     "base_uri": "https://localhost:8080/",
     "height": 881
    },
    "executionInfo": {
     "elapsed": 789,
     "status": "ok",
     "timestamp": 1711076165730,
     "user": {
      "displayName": "Xinyu Li",
      "userId": "09039469784461782839"
     },
     "user_tz": 240
    },
    "id": "1dv8Yg4kssRL",
    "outputId": "a578e8a0-c0bb-4e24-d246-4ac5ef08401a"
   },
   "outputs": [],
   "source": [
    "# plot loss curves\n",
    "plt.plot(range(len(train_loss)), train_loss, label=\"training\")\n",
    "plt.plot(range(len(valid_loss)), valid_loss, label=\"validation\")\n",
    "plt.xlabel(\"epoch\")\n",
    "plt.ylabel(\"average loss\")\n",
    "plt.xlim(0, len(train_loss)-1)\n",
    "plt.ylim(0, None)\n",
    "plt.legend()\n",
    "plt.grid()\n",
    "plt.show()\n",
    "\n",
    "# plot accuracy curves\n",
    "plt.plot(range(len(train_acc)), train_acc, label=\"training\")\n",
    "plt.plot(range(len(valid_acc)), valid_acc, label=\"validation\")\n",
    "plt.xlabel(\"epoch\")\n",
    "plt.ylabel(\"accuracy\")\n",
    "plt.xlim(0, len(train_acc)-1)\n",
    "plt.ylim(0, None)\n",
    "plt.legend()\n",
    "plt.grid()\n",
    "plt.show()"
   ]
  },
  {
   "cell_type": "markdown",
   "metadata": {
    "id": "gjhPChazHsnW"
   },
   "source": [
    "## Q3.2 (3 points)\n",
    "\n",
    "The provided code will visualize the first layer weights as 64 32x32 images, both immediately after initialization and after full training. Generate both visualizations. Comment on the learned weights and compare them to the initialized weights. Do you notice any patterns?"
   ]
  },
  {
   "cell_type": "code",
   "execution_count": null,
   "metadata": {
    "id": "hoZ8iIydKpcE"
   },
   "outputs": [],
   "source": [
    "############################## Q 3.2 ##############################\n",
    "# visualize weights\n",
    "fig = plt.figure(figsize=(8,8))\n",
    "plt.title(\"Layer 1 weights after initialization\")\n",
    "plt.axis(\"off\")\n",
    "grid = ImageGrid(fig, 111, nrows_ncols=(8, 8), axes_pad=0.05)\n",
    "for i, ax in enumerate(grid):\n",
    "    ax.imshow(layer1_W_initial[:,i].reshape((32, 32)).T)\n",
    "    ax.set_axis_off()\n",
    "plt.show()\n",
    "\n",
    "v = np.max(np.abs(params['Wlayer1']))\n",
    "fig = plt.figure(figsize=(8,8))\n",
    "plt.title(\"Layer 1 weights after training\")\n",
    "plt.axis(\"off\")\n",
    "grid = ImageGrid(fig, 111, nrows_ncols=(8, 8), axes_pad=0.05)\n",
    "for i, ax in enumerate(grid):\n",
    "    ax.imshow(params['Wlayer1'][:,i].reshape((32, 32)).T, vmin=-v, vmax=v)\n",
    "    ax.set_axis_off()\n",
    "plt.show()"
   ]
  },
  {
   "cell_type": "markdown",
   "metadata": {
    "id": "1-KQCS31IRnX"
   },
   "source": [
    "---\n",
    "\n",
    "YOUR ANSWER HERE...\n",
    "\n",
    "---"
   ]
  },
  {
   "cell_type": "markdown",
   "metadata": {
    "id": "zfEWyqBmkvOs"
   },
   "source": [
    "## Q3.3 (3 points)\n",
    "\n",
    "Use the code in Q3.1 to train and generate accuracy and loss plots for each of these three networks:\n",
    "\n",
    "(1) one with $10$ times your tuned learning rate,\n",
    "    \n",
    "(2) one with one-tenth your tuned learning rate, and\n",
    "\n",
    "(3) one with your tuned learning rate.\n",
    "    \n",
    "Include total of six plots (two will be the same from Q3.1). Comment on how the learning rates affect the training, and report the final accuracy of the best network on the test set. Hint: Use fixed random seeds to improve reproducibility."
   ]
  },
  {
   "cell_type": "code",
   "execution_count": null,
   "metadata": {
    "id": "b78p82C9K5J0"
   },
   "outputs": [],
   "source": [
    "############################## Q 3.3 ##############################\n",
    "##########################\n",
    "##### your code here #####\n",
    "##########################\n"
   ]
  },
  {
   "cell_type": "markdown",
   "metadata": {
    "id": "1q9vrPV9q3eO"
   },
   "source": [
    "---\n",
    "\n",
    "YOUR ANSWER HERE...\n",
    "\n",
    "---"
   ]
  },
  {
   "cell_type": "markdown",
   "metadata": {
    "id": "Bs1DxVdptsHs"
   },
   "source": [
    "## Q3.4 (3 points)\n",
    "\n",
    "Compute and visualize the confusion matrix of the test data for your best model. Comment on the top few pairs of classes that are most commonly confused."
   ]
  },
  {
   "cell_type": "code",
   "execution_count": null,
   "metadata": {
    "id": "8P_EDqYALDkN"
   },
   "outputs": [],
   "source": [
    "############################## Q 3.4 ##############################\n",
    "confusion_matrix = np.zeros((train_y.shape[1],train_y.shape[1]))\n",
    "\n",
    "# compute confusion matrix\n",
    "##########################\n",
    "##### your code here #####\n",
    "##########################\n",
    "\n",
    "\n",
    "\n",
    "# visualize confusion matrix\n",
    "import string\n",
    "plt.imshow(confusion_matrix,interpolation='nearest')\n",
    "plt.grid()\n",
    "plt.xticks(np.arange(36),string.ascii_uppercase[:26] + ''.join([str(_) for _ in range(10)]))\n",
    "plt.yticks(np.arange(36),string.ascii_uppercase[:26] + ''.join([str(_) for _ in range(10)]))\n",
    "plt.xlabel(\"predicted label\")\n",
    "plt.ylabel(\"true label\")\n",
    "plt.colorbar()\n",
    "plt.show()"
   ]
  },
  {
   "cell_type": "markdown",
   "metadata": {
    "id": "4IibYYUsujak"
   },
   "source": [
    "---\n",
    "\n",
    "YOUR ANSWER HERE...\n",
    "\n",
    "---"
   ]
  },
  {
   "cell_type": "markdown",
   "metadata": {
    "id": "FU-Z9AwcoN2N"
   },
   "source": [
    "# Q4 Image Compression with Autoencoders\n",
    "\n",
    "An autoencoder is a neural network that is trained to attempt to copy its input to its output, but it usually allows copying only approximately. This is typically achieved by restricting the number of hidden nodes inside the autoencoder; in other words, the autoencoder would be forced to learn to represent data with this limited number of hidden nodes. This is a useful way of learning compressed representations.\n",
    "\n",
    "In this section, we will continue using the NIST36 dataset you have from the previous questions."
   ]
  },
  {
   "cell_type": "markdown",
   "metadata": {
    "id": "68an5919obx0"
   },
   "source": [
    "## Q4.1 Building the Autoencoder"
   ]
  },
  {
   "cell_type": "markdown",
   "metadata": {
    "id": "G8Yis3yooiup"
   },
   "source": [
    "### Q4.1 (4 points)\n",
    "\n",
    "Due to the difficulty in training auto-encoders, we have to move to the $relu(x) = max(x,0)$ activation function. It is provided for you. We will build an autoencoder with the layers listed below. Initialize the layers with the initialize_weights() function you wrote in Q2.1.2.\n",
    "\n",
    "- 1024 to 32 dimensions, followed by a ReLU\n",
    "- 32 to 32 dimensions, followed by a ReLU\n",
    "- 32 to 32 dimensions, followed by a ReLU\n",
    "- 32 to 1024 dimensions, followed by a sigmoid (this normalizes the image output for us)"
   ]
  },
  {
   "cell_type": "code",
   "execution_count": null,
   "metadata": {
    "id": "0yHIN01ZpQSx"
   },
   "outputs": [],
   "source": [
    "# here we provide the relu activation and its derivative for you\n",
    "from collections import Counter\n",
    "\n",
    "def relu(x):\n",
    "    return np.maximum(x,0)\n",
    "\n",
    "def relu_deriv(x):\n",
    "    return (x > 0).astype(float)\n",
    "\n",
    "############################## Q 4.1 ##############################\n",
    "params = Counter()\n",
    "\n",
    "# initialize layers here\n",
    "##########################\n",
    "##### your code here #####\n",
    "##########################\n",
    "\n"
   ]
  },
  {
   "cell_type": "markdown",
   "metadata": {
    "id": "a8rMh7WtqKYe"
   },
   "source": [
    "## Q4.2 Training the Autoencoder"
   ]
  },
  {
   "cell_type": "markdown",
   "metadata": {
    "id": "H9a0VtkVqHIH"
   },
   "source": [
    "### Q4.2.1 (5 points)\n",
    "\n",
    "To help even more with convergence speed, we will implement momentum. Now, instead of updating $W = W - \\alpha \\frac{\\partial J}{\\partial W}$, we will use the update rules $M_W = 0.9 M_W - \\alpha \\frac{\\partial J}{\\partial W}$ and $W = W + M_W$. To implement momentum, populate the parameters dictionary with zero-initialized momentum accumulators M, one for each parameter. Then simply perform both update equations for every batch."
   ]
  },
  {
   "cell_type": "markdown",
   "metadata": {
    "id": "yqbxdt0wqsAh"
   },
   "source": [
    "### Q4.2.2 (6 points)\n",
    "\n",
    "Using the provided default settings, train the network for 100 epochs. The loss function that you will use is the total squared error for the output image compared to the input image (they should be the same!). Plot the training loss curve. What do you observe?"
   ]
  },
  {
   "cell_type": "code",
   "execution_count": null,
   "metadata": {
    "colab": {
     "base_uri": "https://localhost:8080/",
     "height": 1000
    },
    "executionInfo": {
     "elapsed": 124849,
     "status": "ok",
     "timestamp": 1711076695777,
     "user": {
      "displayName": "Xinyu Li",
      "userId": "09039469784461782839"
     },
     "user_tz": 240
    },
    "id": "EvO8GWRtq2w5",
    "outputId": "b945225e-5d9a-4ebb-b5e3-a89ae3607357"
   },
   "outputs": [],
   "source": [
    "########################### Q 4.2.1 & Q 4.2.2 ########################\n",
    "# the NIST36 dataset\n",
    "train_data = scipy.io.loadmat('/content/data/nist36_train.mat')\n",
    "valid_data = scipy.io.loadmat('/content/data/nist36_valid.mat')\n",
    "\n",
    "# we don't need labels now!\n",
    "train_x = train_data['train_data']\n",
    "valid_x = valid_data['valid_data']\n",
    "\n",
    "max_iters = 100\n",
    "# pick a batch size, learning rate\n",
    "batch_size = 36\n",
    "learning_rate =  3e-5\n",
    "hidden_size = 32\n",
    "lr_rate = 20\n",
    "batches = get_random_batches(train_x,np.ones((train_x.shape[0],1)),batch_size)\n",
    "batch_num = len(batches)\n",
    "\n",
    "# should look like your previous training loops\n",
    "losses = []\n",
    "for itr in range(max_iters):\n",
    "    total_loss = 0\n",
    "    for xb,_ in batches:\n",
    "        # training loop can be exactly the same as q2!\n",
    "        # your loss is now the total squared error, i.e. the sum of (x-y)^2\n",
    "        # delta is the d/dx of (x-y)^2\n",
    "        # to implement momentum\n",
    "        #   just use 'M_'+name variables as momentum accumulators to keep a saved value over steps\n",
    "        #   params is a Counter(), which returns a 0 if an element is missing\n",
    "        #   so you should be able to write your loop without any special conditions\n",
    "\n",
    "        ##########################\n",
    "        ##### your code here #####\n",
    "        ##########################\n",
    "\n",
    "\n",
    "    losses.append(total_loss/train_x.shape[0])\n",
    "    if itr % 2 == 0:\n",
    "        print(\"itr: {:02d} \\t loss: {:.2f}\".format(itr,total_loss))\n",
    "    if itr % lr_rate == lr_rate-1:\n",
    "        learning_rate *= 0.9\n",
    "\n",
    "# plot loss curve\n",
    "plt.plot(range(len(losses)), losses)\n",
    "plt.xlabel(\"epoch\")\n",
    "plt.ylabel(\"average loss\")\n",
    "plt.xlim(0, len(losses)-1)\n",
    "plt.ylim(0, None)\n",
    "plt.grid()\n",
    "plt.show()"
   ]
  },
  {
   "cell_type": "markdown",
   "metadata": {
    "id": "hxeoGSwXvPe6"
   },
   "source": [
    "---\n",
    "\n",
    "YOUR ANSWER HERE...\n",
    "\n",
    "---"
   ]
  },
  {
   "cell_type": "markdown",
   "metadata": {
    "id": "rKBtWoyUviCi"
   },
   "source": [
    "## Q4.3 Evaluating the Autoencoder"
   ]
  },
  {
   "cell_type": "markdown",
   "metadata": {
    "id": "F6ymhRoFvfNY"
   },
   "source": [
    "### Q4.3.1 (5 points)\n",
    "\n",
    "Now let's evaluate how well the autoencoder has been trained. Select 5 classes from the total 36 classes in the validation set and for each selected class show 2 validation images and their reconstruction. What differences do you observe in the reconstructed validation images compared to the original ones?"
   ]
  },
  {
   "cell_type": "code",
   "execution_count": null,
   "metadata": {
    "colab": {
     "base_uri": "https://localhost:8080/",
     "height": 406
    },
    "executionInfo": {
     "elapsed": 3730,
     "status": "ok",
     "timestamp": 1711076871480,
     "user": {
      "displayName": "Xinyu Li",
      "userId": "09039469784461782839"
     },
     "user_tz": 240
    },
    "id": "NpcI9jxkvd4c",
    "outputId": "b9e72a42-7b62-474f-b1c2-dc9f9e5e667a"
   },
   "outputs": [],
   "source": [
    "############################## Q 4.3.1 ##############################\n",
    "# choose 5 classes (change if you want)\n",
    "visualize_labels = [\"H\", \"3\", \"U\", \"8\", \"Q\"]\n",
    "\n",
    "# get 2 validation images from each label to visualize\n",
    "visualize_x = np.zeros((2*len(visualize_labels), valid_x.shape[1]))\n",
    "for i, label in enumerate(visualize_labels):\n",
    "    idx = 26+int(label) if label.isnumeric() else string.ascii_lowercase.index(label.lower())\n",
    "    choices = np.random.choice(np.arange(100*idx, 100*(idx+1)), 2, replace=False)\n",
    "    visualize_x[2*i:2*i+2] = valid_x[choices]\n",
    "\n",
    "# run visualize_x through your network\n",
    "# using the forward() function you wrote in Q2.2.1\n",
    "reconstructed_x = visualize_x\n",
    "# TODO: name the output reconstructed_x\n",
    "##########################\n",
    "##### your code here #####\n",
    "##########################\n",
    "\n",
    "\n",
    "# visualize\n",
    "fig = plt.figure()\n",
    "plt.axis(\"off\")\n",
    "grid = ImageGrid(fig, 111, nrows_ncols=(len(visualize_labels), 4), axes_pad=0.05)\n",
    "for i, ax in enumerate(grid):\n",
    "    if i % 2 == 0:\n",
    "        ax.imshow(visualize_x[i//2].reshape((32, 32)).T)\n",
    "    else:\n",
    "        ax.imshow(reconstructed_x[i//2].reshape((32, 32)).T)\n",
    "    ax.set_axis_off()\n",
    "plt.show()"
   ]
  },
  {
   "cell_type": "markdown",
   "metadata": {
    "id": "_VJKbdK9wPJb"
   },
   "source": [
    "---\n",
    "\n",
    "YOUR ANSWER HERE...\n",
    "\n",
    "---"
   ]
  },
  {
   "cell_type": "markdown",
   "metadata": {
    "id": "0UaApE55wdqV"
   },
   "source": [
    "### Q4.3.2 (5 points)\n",
    "\n",
    "Let’s evaluate the reconstruction quality using Peak Signal-to-noise Ratio (PSNR). PSNR is defined as\n",
    "\n",
    "$$\\text{PSNR} = 20 \\times \\log_{10}(\\text{MAX}_I) - 10\\times \\log_{10}(\\text{MSE})$$\n",
    "\n",
    "where $\\text{MAX}_I$ is the maximum possible pixel value of the image, and $\\text{MSE}$ (mean squared error) is computed across all pixels. Said another way, maximum refers to the brightest overall sum (maximum positive value of the sum). You may use skimage.metrics.peak_signal_noise_ratio for convenience. Report the average PSNR you get from the autoencoder across all images in the validation set (it should be around 15)."
   ]
  },
  {
   "cell_type": "code",
   "execution_count": null,
   "metadata": {
    "colab": {
     "base_uri": "https://localhost:8080/"
    },
    "executionInfo": {
     "elapsed": 467,
     "status": "ok",
     "timestamp": 1711076882180,
     "user": {
      "displayName": "Xinyu Li",
      "userId": "09039469784461782839"
     },
     "user_tz": 240
    },
    "id": "Jxg6aN3RwkfI",
    "outputId": "a91d81c1-7f83-4e5c-f22c-7608fa5c095a"
   },
   "outputs": [],
   "source": [
    "############################## Q 4.3.2 ##############################\n",
    "from skimage.metrics import peak_signal_noise_ratio\n",
    "# evaluate PSNR\n",
    "##########################\n",
    "##### your code here #####\n",
    "##########################\n",
    "\n"
   ]
  },
  {
   "cell_type": "markdown",
   "metadata": {
    "id": "pxqdG4EASIhS"
   },
   "source": [
    "---\n",
    "\n",
    "YOUR ANSWER HERE...\n",
    "\n",
    "---"
   ]
  },
  {
   "cell_type": "markdown",
   "metadata": {
    "id": "YBTCj6cg3sl7"
   },
   "source": [
    "# Q5 (Extra Credit) Extract Text from Images\n",
    "\n",
    "Run below code to download and put the unzipped data in '/content/images' folder. We have provided you with 01_list.jpg, 02_letters.jpg, 03_haiku.jpg and 04_deep.jpg to test your implementation on."
   ]
  },
  {
   "cell_type": "code",
   "execution_count": null,
   "metadata": {
    "id": "zrgM0lsQ4IF6"
   },
   "outputs": [],
   "source": [
    "if not os.path.exists('/content/images'):\n",
    "  os.mkdir('/content/images')\n",
    "  !wget http://www.cs.cmu.edu/~lkeselma/16720a_data/images.zip -O /content/images/images.zip\n",
    "  !unzip \"/content/images/images.zip\" -d \"/content/images\"\n",
    "  os.system(\"rm /content/images/images.zip\")"
   ]
  },
  {
   "cell_type": "code",
   "execution_count": null,
   "metadata": {
    "colab": {
     "base_uri": "https://localhost:8080/"
    },
    "executionInfo": {
     "elapsed": 7,
     "status": "ok",
     "timestamp": 1711076479518,
     "user": {
      "displayName": "Xinyu Li",
      "userId": "09039469784461782839"
     },
     "user_tz": 240
    },
    "id": "BLEuTPhv4dNE",
    "outputId": "d3d5a14e-3444-4fc2-fc17-042298334631"
   },
   "outputs": [],
   "source": [
    "ls /content/images"
   ]
  },
  {
   "cell_type": "markdown",
   "metadata": {
    "id": "_TB6CS344e7n"
   },
   "source": [
    "## Q5.1 (Extra Credit) (4 points)\n",
    "\n",
    "The method outlined above is pretty simplistic, and while it works for the given text samples, it makes several assumptions. What are two big assumptions that the sample method makes?"
   ]
  },
  {
   "cell_type": "markdown",
   "metadata": {
    "id": "xKTCXAR34t3U"
   },
   "source": [
    "---\n",
    "\n",
    "YOUR ANSWER HERE...\n",
    "\n",
    "---\n"
   ]
  },
  {
   "cell_type": "markdown",
   "metadata": {
    "id": "tCMMeUWm6B_i"
   },
   "source": [
    "## Q5.2 (Extra Credit) (10 points)\n",
    "\n",
    "Implement the findLetters() function to find letters in the image. Given an RGB image, this function should return bounding boxes for all of the located handwritten characters in the image, as well as a binary black-and-white version of the image im. Each row of the matrix should contain [y1,x1,y2,x2], the positions of the top-left and bottom-right corners of the box. The black-and-white image should be between 0.0 to 1.0, with the characters in white and the background in black (consistent with the images in nist36). Hint: Since we read text left to right, top to bottom, we can use this to cluster the coordinates."
   ]
  },
  {
   "cell_type": "code",
   "execution_count": null,
   "metadata": {
    "id": "tdgBYjnP4tM6"
   },
   "outputs": [],
   "source": [
    "############################## Q 5.2 ##############################\n",
    "def findLetters(image):\n",
    "    \"\"\"\n",
    "    takes a color image\n",
    "    returns a list of bounding boxes and black_and_white image\n",
    "    \"\"\"\n",
    "    bboxes = []\n",
    "    bw = None\n",
    "    # insert processing in here\n",
    "    # one idea estimate noise -> denoise -> greyscale -> threshold -> morphology -> label -> skip small boxes\n",
    "    # this can be 10 to 15 lines of code using skimage functions\n",
    "\n",
    "    ##########################\n",
    "    ##### your code here #####\n",
    "    ##########################\n",
    "\n",
    "\n",
    "    return bboxes, bw"
   ]
  },
  {
   "cell_type": "markdown",
   "metadata": {
    "id": "maR0-2tf7FMC"
   },
   "source": [
    "## Q5.3 (Extra Credit) (3 points)\n",
    "\n",
    "Using the provided code below, visualize all of the located boxes on top of the binary image to show the accuracy of your findLetters() function. Include all the provided sample images with the boxes."
   ]
  },
  {
   "cell_type": "code",
   "execution_count": null,
   "metadata": {
    "colab": {
     "base_uri": "https://localhost:8080/",
     "height": 1000
    },
    "executionInfo": {
     "elapsed": 7352,
     "status": "ok",
     "timestamp": 1711076486867,
     "user": {
      "displayName": "Xinyu Li",
      "userId": "09039469784461782839"
     },
     "user_tz": 240
    },
    "id": "zkVQX71k7KjQ",
    "outputId": "774a6a27-a2b8-40f3-8326-436bb06b65c4"
   },
   "outputs": [],
   "source": [
    "############################## Q 5.3 ##############################\n",
    "# do not include any more libraries here!\n",
    "# no opencv, no sklearn, etc!\n",
    "import warnings\n",
    "warnings.simplefilter(action='ignore', category=FutureWarning)\n",
    "warnings.simplefilter(action='ignore', category=UserWarning)\n",
    "\n",
    "for imgno, img in enumerate(sorted(os.listdir('/content/images'))):\n",
    "    im1 = skimage.img_as_float(skimage.io.imread(os.path.join('/content/images',img)))\n",
    "    bboxes, bw = findLetters(im1)\n",
    "\n",
    "    print('\\n' + img)\n",
    "    plt.imshow(1-bw, cmap=\"Greys\") # reverse the colors of the characters and the background for better visualization\n",
    "    for bbox in bboxes:\n",
    "        minr, minc, maxr, maxc = bbox\n",
    "        rect = matplotlib.patches.Rectangle((minc, minr), maxc - minc, maxr - minr,\n",
    "                                fill=False, edgecolor='red', linewidth=2)\n",
    "        plt.gca().add_patch(rect)\n",
    "    plt.show()"
   ]
  },
  {
   "cell_type": "markdown",
   "metadata": {
    "id": "ysnlG_hR8Kv3"
   },
   "source": [
    "## Q5.4 (Extra Credit) (8 points)\n",
    "\n",
    "You will now load the image, find the character locations, classify each one with the network you trained in Q3.1, and return the text contained in the image. Be sure you try to make your detected images look like the images from the training set. Visualize them and act accordingly. If you find that your classifier performs poorly, consider dilation under skimage morphology to make the letters thicker.\n",
    "\n",
    "Your solution is correct if you can correctly detect most of the letters and classify approximately 70\\% of the letters in each of the sample images.\n",
    "\n",
    "Run your code on all the provided sample images in '/content/images'. Show the extracted text. It is fine if your code ignores spaces, but if so, please provide a written answer with manually added spaces."
   ]
  },
  {
   "cell_type": "code",
   "execution_count": null,
   "metadata": {
    "id": "aYqoWv8TMNdO"
   },
   "outputs": [],
   "source": [
    "############################## Q 5.4 ##############################\n",
    "for imgno, img in enumerate(sorted(os.listdir('/content/images'))):\n",
    "    im1 = skimage.img_as_float(skimage.io.imread(os.path.join('/content/images',img)))\n",
    "    bboxes, bw = findLetters(im1)\n",
    "    print('\\n' + img)\n",
    "\n",
    "    # find the rows using..RANSAC, counting, clustering, etc.\n",
    "    ##########################\n",
    "    ##### your code here #####\n",
    "    ##########################\n",
    "\n",
    "\n",
    "\n",
    "    # crop the bounding boxes\n",
    "    # note.. before you flatten, transpose the image (that's how the dataset is!)\n",
    "    # consider doing a square crop, and even using np.pad() to get your images looking more like the dataset\n",
    "    ##########################\n",
    "    ##### your code here #####\n",
    "    ##########################\n",
    "\n",
    "\n",
    "\n",
    "    # load the weights\n",
    "    # run the crops through your neural network and print them out\n",
    "    import pickle\n",
    "    import string\n",
    "    letters = np.array([_ for _ in string.ascii_uppercase[:26]] + [str(_) for _ in range(10)])\n",
    "    params = pickle.load(open('/content/q3_weights.pickle','rb'))\n",
    "    ##########################\n",
    "    ##### your code here #####\n",
    "    ##########################\n",
    "\n"
   ]
  },
  {
   "cell_type": "markdown",
   "metadata": {
    "id": "MfC7rvFh_HxH"
   },
   "source": [
    "---\n",
    "\n",
    "YOUR ANSWER HERE... (if your code ignores spaces)\n",
    "\n",
    "---"
   ]
  }
 ],
 "metadata": {
  "colab": {
   "provenance": []
  },
  "kernelspec": {
   "display_name": "cv_hw",
   "language": "python",
   "name": "python3"
  },
  "language_info": {
   "name": "python",
   "version": "3.11.11"
  }
 },
 "nbformat": 4,
 "nbformat_minor": 0
}
