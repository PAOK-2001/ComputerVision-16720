{
 "cells": [
  {
   "cell_type": "markdown",
   "metadata": {
    "id": "V3_y0NxxTjRX"
   },
   "source": [
    "# Initialization\n",
    "\n",
    "Run the following code to import the modules you'll need. After your finish the assignment, **remember to run all cells** and save the note book to your local machine as a PDF for gradescope submission."
   ]
  },
  {
   "cell_type": "code",
   "execution_count": null,
   "metadata": {
    "id": "nQPqBrQ48Ovs"
   },
   "outputs": [],
   "source": [
    "import time\n",
    "import os\n",
    "import numpy as np\n",
    "import matplotlib.pyplot as plt\n",
    "import matplotlib.patches as patches"
   ]
  },
  {
   "cell_type": "markdown",
   "metadata": {
    "id": "pIh5Lx9fT8Mt"
   },
   "source": [
    "# Download data\n",
    "\n",
    "In this section we will download the data and setup the paths.\n"
   ]
  },
  {
   "cell_type": "code",
   "execution_count": null,
   "metadata": {
    "id": "7w824K_uTkkK"
   },
   "outputs": [],
   "source": [
    "# Download the data\n",
    "if not os.path.exists('data/aerialseq.npy'):\n",
    "    !wget https://www.cs.cmu.edu/~deva/data/aerialseq.npy -O /content/aerialseq.npy\n",
    "if not os.path.exists('data/antseq.npy'):\n",
    "    !wget https://www.cs.cmu.edu/~deva/data/antseq.npy -O /content/antseq.npy"
   ]
  },
  {
   "cell_type": "markdown",
   "metadata": {
    "id": "Osz_ra3C8Ovt"
   },
   "source": [
    "# Q4: Efficient Tracking\n",
    "\n",
    "Makes process faster by computing $p$ from the affine warp and the change in the affine warp, such that \n",
    "\n",
    "$$ M = M(\\Delta M)^{-1}   $$"
   ]
  },
  {
   "cell_type": "markdown",
   "metadata": {
    "id": "PV3HzvAf8Ovt"
   },
   "source": [
    "## Q4.1: Inverse Composition (15 points)"
   ]
  },
  {
   "cell_type": "code",
   "execution_count": null,
   "metadata": {
    "id": "W9CMATJ8rlXt"
   },
   "outputs": [],
   "source": [
    "from scipy.interpolate import RectBivariateSpline\n",
    "\n",
    "def InverseCompositionAffine(It, It1, threshold, num_iters):\n",
    "    \"\"\"\n",
    "    :param It        : (H, W), current image\n",
    "    :param It1       : (H, W), next image\n",
    "    :param threshold : (float), if the length of dp < threshold, terminate the optimization\n",
    "    :param num_iters : (int), number of iterations for running the optimization\n",
    "\n",
    "    :return: M       : (2, 3) The affine transform matrix\n",
    "    \"\"\"\n",
    "    def apply_affine_warp(pixels, warp_matrix, H,W):\n",
    "        pixels = warp_matrix @ pixels\n",
    "        return pixels[0].reshape(H,W), pixels[1].reshape(H,W)\n",
    "    \n",
    "    def build_jacobian(X, Y):\n",
    "        X_flat = X.ravel()\n",
    "        Y_flat = Y.ravel()\n",
    "\n",
    "        ones = np.ones_like(X_flat)\n",
    "        zeros = np.zeros_like(X_flat)\n",
    "        J = np.stack([\n",
    "            np.stack([X_flat, Y_flat, ones, zeros, zeros, zeros], axis=-1),\n",
    "            np.stack([zeros, zeros, zeros, X_flat, Y_flat, ones], axis=-1)\n",
    "        ], axis=1)  # shape: (n, 2, 6)\n",
    "        return J\n",
    "    \n",
    "    def in_bounds(x, y, H, W):\n",
    "        mask = np.where((x >= 0) & (x < W) & (y >= 0) & (y < H), True, False)\n",
    "        return mask\n",
    "    \n",
    "    # Initial transform parameters\n",
    "    warp_matrix = np.array([\n",
    "        [1.0, 0.0, 0.0], \n",
    "        [0.0, 1.0, 0.0]\n",
    "    ])\n",
    "    # Create image splines\n",
    "    H, W = It.shape\n",
    "    spline_t0 = RectBivariateSpline(np.arange(H), np.arange(W), It)\n",
    "    spline_t1 = RectBivariateSpline(np.arange(H), np.arange(W), It1)\n",
    "\n",
    "    # Create gradient splines\n",
    "    I_dy = np.gradient(It1, axis=0)\n",
    "    I_dx = np.gradient(It1, axis=1)\n",
    "    grad_spline_dx = RectBivariateSpline(np.arange(H), np.arange(W), I_dx)\n",
    "    grad_spline_dy = RectBivariateSpline(np.arange(H), np.arange(W), I_dy)\n",
    "\n",
    "    x1, y1, x2, y2 = 0, 0, W-1, H-1\n",
    "    rec_x = np.arange(x1, x2+1)\n",
    "    rec_y = np.arange(y1, y2+1)\n",
    "    X, Y = np.meshgrid(rec_x, rec_y)\n",
    "    template_t0 = spline_t0.ev(Y, X) # Sample the template from It\n",
    "    # Make homogenous\n",
    "    pixels_hg = np.stack([X.flatten(), Y.flatten(), np.ones_like(X.flatten())], axis=0)\n",
    "    \n",
    "    dx = grad_spline_dx.ev(Y, X).flatten()\n",
    "    dy = grad_spline_dy.ev(Y, X).flatten()\n",
    "    image_grad = np.vstack([dx, dy]).T\n",
    "    \n",
    "    J = build_jacobian(X, Y)\n",
    "    A_prime = np.einsum('ij,ijk->ik', image_grad, J)\n",
    "    \n",
    "    for i in range(num_iters):\n",
    "        # Warp the image\n",
    "        warped_x, warped_y = apply_affine_warp(pixels_hg, warp_matrix, H, W)\n",
    "        valid_mask = in_bounds(warped_x, warped_y, H, W)\n",
    "\n",
    "        warped_x, warped_y = warped_x[valid_mask], warped_y[valid_mask]\n",
    "        template_t1 = spline_t1.ev(warped_y, warped_x) # Sample the template from It1\n",
    "\n",
    "        # Build b by computing the error\n",
    "        b = (template_t1 - template_t0[valid_mask]).flatten()\n",
    "        \n",
    "         # Use A prime to compute change in warp matrix\n",
    "        A = A_prime[valid_mask.flatten()]\n",
    "        hessian = A.T @ A   \n",
    "        delta_p = (np.linalg.inv(hessian)) @ (A.T @ b)\n",
    "\n",
    "        delta_warp = np.array([\n",
    "            [1+delta_p[0], delta_p[1], delta_p[2]], \n",
    "            [delta_p[3], 1+delta_p[4], delta_p[5]],\n",
    "            [0, 0, 1]\n",
    "        ], dtype=np.float32)\n",
    "        \n",
    "        warp_matrix = warp_matrix @ np.linalg.inv(delta_warp)\n",
    "\n",
    "        if np.linalg.norm(delta_p) <= threshold:\n",
    "            # print(f\"Converged at iteration {i}\")\n",
    "            break\n",
    "\n",
    "    return warp_matrix"
   ]
  },
  {
   "cell_type": "markdown",
   "metadata": {
    "id": "is0xI0eYlRWQ"
   },
   "source": [
    "## Debug Q4.1\n",
    "\n",
    "\n",
    "\n",
    "Feel free to use and modify the following snippet to debug your implementation. The snippet simply visualizes the translation resulting from running LK on a single frame. When you warp the source frame using the obtained transformation matrix, it should resemble the target frame."
   ]
  },
  {
   "cell_type": "code",
   "execution_count": null,
   "metadata": {
    "colab": {
     "base_uri": "https://localhost:8080/",
     "height": 209
    },
    "executionInfo": {
     "elapsed": 23488,
     "status": "ok",
     "timestamp": 1706249517508,
     "user": {
      "displayName": "Hung-Jui Huang",
      "userId": "04071754524072083319"
     },
     "user_tz": 300
    },
    "id": "kqBSd3vcBZ-1",
    "outputId": "72b34748-ec48-4f9b-a486-b09eb92f5e4a"
   },
   "outputs": [],
   "source": [
    "import cv2\n",
    "\n",
    "num_iters = 100\n",
    "threshold = 0.01\n",
    "seq = np.load(\"data/aerialseq.npy\")\n",
    "It = seq[:,:,0]\n",
    "It1 = seq[:,:,10]\n",
    "\n",
    "# Source frame\n",
    "plt.figure()\n",
    "plt.subplot(1,3,1)\n",
    "plt.imshow(It, cmap='gray')\n",
    "plt.title('Source image')\n",
    "\n",
    "# Target frame\n",
    "plt.subplot(1,3,2)\n",
    "plt.imshow(It1, cmap='gray')\n",
    "plt.title('Target image')\n",
    "\n",
    "# Warped source frame\n",
    "M = InverseCompositionAffine(It, It1, threshold, num_iters)\n",
    "warped_It = cv2.warpAffine(It, M,(It.shape[1],It.shape[0]))\n",
    "plt.subplot(1,3,3)\n",
    "plt.imshow(warped_It, cmap='gray')\n",
    "plt.title('Warped Source image')\n",
    "M"
   ]
  },
  {
   "cell_type": "markdown",
   "metadata": {
    "id": "Ru6vLvPe8Ovu"
   },
   "source": [
    "## Q4.2 Tracking with Inverse Composition (10 points)\n",
    "\n",
    "Re-use your impplementation in Q3.2 for subtract dominant motion. Just make sure to use InverseCompositionAffine within."
   ]
  },
  {
   "cell_type": "code",
   "execution_count": null,
   "metadata": {
    "id": "6uUM4B3FrlXu"
   },
   "outputs": [],
   "source": [
    "import numpy as np\n",
    "from scipy.ndimage import binary_erosion\n",
    "from scipy.ndimage import binary_dilation\n",
    "from scipy.ndimage import affine_transform\n",
    "import scipy.ndimage\n",
    "import cv2\n",
    "\n",
    "def SubtractDominantMotion(It, It1, num_iters, threshold, tolerance):\n",
    "    \"\"\"\n",
    "    :param It        : (H, W), current image\n",
    "    :param It1       : (H, W), next image\n",
    "    :param num_iters : (int), number of iterations for running the optimization\n",
    "    :param threshold : (float), if the length of dp < threshold, terminate the optimization\n",
    "    :param tolerance : (float), binary threshold of intensity difference when computing the mask\n",
    "    :return: mask    : (H, W), the mask of the moved object\n",
    "    \"\"\"\n",
    "    mask = np.ones(It.shape, dtype=bool)\n",
    "    \n",
    "    # Warp the image\n",
    "    M = InverseCompositionAffine(It, It1, threshold, num_iters)\n",
    "    warped_img = affine_transform(It, M, output_shape=It.shape)\n",
    "\n",
    "    # Compute abs difference. If difference is high, this is a movement zone\n",
    "    diff = np.abs(warped_img - It1)\n",
    "    mask = diff > tolerance\n",
    "\n",
    "    # Apply morphological operations for better mask\n",
    "    _kernel_3X3 = np.ones((3,3), np.uint8)\n",
    "    _kernel_5X5 = np.ones((5,5), np.uint8)\n",
    "    mask = binary_dilation(mask,structure= _kernel_5X5, iterations=1)\n",
    "    mask = binary_erosion(mask, structure= _kernel_3X3, iterations=2)\n",
    "    return mask\n"
   ]
  },
  {
   "cell_type": "markdown",
   "metadata": {
    "id": "y_EAOOUw8Ovu"
   },
   "source": [
    "Re-use your implementation in Q3.3 for sequence tracking."
   ]
  },
  {
   "cell_type": "code",
   "execution_count": null,
   "metadata": {
    "id": "UnTJd6cPrlXv"
   },
   "outputs": [],
   "source": [
    "from tqdm import tqdm\n",
    "\n",
    "def TrackSequenceAffineMotion(seq, num_iters, threshold, tolerance):\n",
    "    \"\"\"\n",
    "    :param seq       : (H, W, T), sequence of frames\n",
    "    :param num_iters : int, number of iterations for running the optimization\n",
    "    :param threshold : float, if the length of dp < threshold, terminate the optimization\n",
    "    :param tolerance : (float), binary threshold of intensity difference when computing the mask\n",
    "    :return: masks   : (T, 4) moved objects for each frame\n",
    "    \"\"\"\n",
    "    H, W, N = seq.shape\n",
    "    masks = []\n",
    "    # Iterate over the car sequence and track the car\n",
    "    for i in tqdm(range(1, seq.shape[2])):\n",
    "        frame_0 = seq[:,:,i-1]\n",
    "        frame_i = seq[:,:,i]\n",
    "        assert not np.all(frame_0 == frame_i), \"The frames are the same\"\n",
    "\n",
    "        mask = SubtractDominantMotion(frame_0, frame_i, num_iters, threshold, tolerance)\n",
    "        masks.append(mask)\n",
    "\n",
    "    masks = np.stack(masks, axis=2)\n",
    "    return masks"
   ]
  },
  {
   "cell_type": "markdown",
   "metadata": {
    "id": "Hkt4w3TmOhJ2"
   },
   "source": [
    "Track the ant sequence with inverse composition method.\n"
   ]
  },
  {
   "cell_type": "code",
   "execution_count": null,
   "metadata": {
    "colab": {
     "base_uri": "https://localhost:8080/"
    },
    "executionInfo": {
     "elapsed": 57510,
     "status": "ok",
     "timestamp": 1706249575015,
     "user": {
      "displayName": "Hung-Jui Huang",
      "userId": "04071754524072083319"
     },
     "user_tz": 300
    },
    "id": "byhOVE8S8Ovv",
    "outputId": "aeef2c96-35cd-4548-e85c-bc3a1e2dcfa3"
   },
   "outputs": [],
   "source": [
    "seq = np.load(\"data/antseq.npy\")\n",
    "\n",
    "# NOTE: feel free to play with these parameters\n",
    "num_iters = 1000\n",
    "threshold = 0.01\n",
    "tolerance = 0.2\n",
    "\n",
    "tic = time.time()\n",
    "masks = TrackSequenceAffineMotion(seq, num_iters, threshold, tolerance)\n",
    "toc = time.time()\n",
    "print('\\nAnt Sequence takes %f seconds' % (toc - tic))"
   ]
  },
  {
   "cell_type": "code",
   "execution_count": null,
   "metadata": {
    "colab": {
     "base_uri": "https://localhost:8080/",
     "height": 1000
    },
    "executionInfo": {
     "elapsed": 1952,
     "status": "ok",
     "timestamp": 1706249576963,
     "user": {
      "displayName": "Hung-Jui Huang",
      "userId": "04071754524072083319"
     },
     "user_tz": 300
    },
    "id": "7TwDJrYf8Ovv",
    "outputId": "47126cae-31a7-4872-a177-86c915f0d4c9"
   },
   "outputs": [],
   "source": [
    "frames_to_save = [29, 59, 89, 119]\n",
    "\n",
    "# TODO: visualize\n",
    "for idx in frames_to_save:\n",
    "    frame = seq[:, :, idx]\n",
    "    mask = masks[:, :, idx]\n",
    "\n",
    "    plt.figure()\n",
    "    plt.imshow(frame, cmap=\"gray\", alpha=0.5)\n",
    "    plt.imshow(np.ma.masked_where(np.invert(mask), mask), cmap='winter', alpha=0.8)\n",
    "    plt.axis('off')\n"
   ]
  },
  {
   "cell_type": "markdown",
   "metadata": {
    "id": "VzKMAkNTOrfZ"
   },
   "source": [
    "Track the aerial sequence with inverse composition method.\n"
   ]
  },
  {
   "cell_type": "code",
   "execution_count": null,
   "metadata": {
    "colab": {
     "base_uri": "https://localhost:8080/"
    },
    "executionInfo": {
     "elapsed": 191919,
     "status": "ok",
     "timestamp": 1706249768878,
     "user": {
      "displayName": "Hung-Jui Huang",
      "userId": "04071754524072083319"
     },
     "user_tz": 300
    },
    "id": "QvWJYxD_8Ovv",
    "outputId": "d6f287c2-193e-49cb-d1e0-544aff02d150"
   },
   "outputs": [],
   "source": [
    "seq = np.load(\"data/aerialseq.npy\")\n",
    "\n",
    "# NOTE: feel free to play with these parameters\n",
    "num_iters = 1000\n",
    "threshold = 0.01\n",
    "tolerance = 0.2\n",
    "\n",
    "tic = time.time()\n",
    "masks = TrackSequenceAffineMotion(seq, num_iters, threshold, tolerance)\n",
    "toc = time.time()\n",
    "print('\\nAnt Sequence takes %f seconds' % (toc - tic))"
   ]
  },
  {
   "cell_type": "code",
   "execution_count": null,
   "metadata": {
    "colab": {
     "base_uri": "https://localhost:8080/",
     "height": 1000
    },
    "executionInfo": {
     "elapsed": 1850,
     "status": "ok",
     "timestamp": 1706249770715,
     "user": {
      "displayName": "Hung-Jui Huang",
      "userId": "04071754524072083319"
     },
     "user_tz": 300
    },
    "id": "lvzkXAhi8Ovv",
    "outputId": "8000c08d-cae9-4bc1-f6dc-fc05d8a6df4e"
   },
   "outputs": [],
   "source": [
    "frames_to_save = [29, 59, 89, 119]\n",
    "\n",
    "# TODO: visualize\n",
    "for idx in frames_to_save:\n",
    "    frame = seq[:, :, idx]\n",
    "    mask = masks[:, :, idx]\n",
    "\n",
    "    plt.figure()\n",
    "    plt.imshow(frame, cmap=\"gray\", alpha=0.5)\n",
    "    plt.imshow(np.ma.masked_where(np.invert(mask), mask), cmap='winter', alpha=0.8)\n",
    "    plt.axis('off')"
   ]
  },
  {
   "cell_type": "markdown",
   "metadata": {
    "id": "eLLENRyPJEfF"
   },
   "source": [
    "## Q4.2.1 Compare the runtime of the algorithm using inverse composition (as described in this section) with its runtime without inverse composition (as detailed in the previous section) in the context of the ant and aerial sequences:\n",
    "===== your answer here! =====\n",
    "\n",
    "\n",
    "===== end of your answer ====\n",
    "\n",
    "## Q4.2.2 In your own words, please describe briefly why the inverse compositional approach is more computationally efficient than the classical approach:\n",
    "===== your answer here! =====\n",
    "\n",
    "\n",
    "===== end of your answer ===="
   ]
  }
 ],
 "metadata": {
  "colab": {
   "provenance": []
  },
  "kernelspec": {
   "display_name": "cv_hw",
   "language": "python",
   "name": "python3"
  },
  "language_info": {
   "codemirror_mode": {
    "name": "ipython",
    "version": 3
   },
   "file_extension": ".py",
   "mimetype": "text/x-python",
   "name": "python",
   "nbconvert_exporter": "python",
   "pygments_lexer": "ipython3",
   "version": "3.11.11"
  },
  "orig_nbformat": 4
 },
 "nbformat": 4,
 "nbformat_minor": 0
}
