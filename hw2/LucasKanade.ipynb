{
 "cells": [
  {
   "cell_type": "markdown",
   "metadata": {
    "id": "V3_y0NxxTjRX"
   },
   "source": [
    "# Initialization\n",
    "\n",
    "Run the following code to import the modules you'll need. After your finish the assignment, **remember to run all cells** and save the note book to your local machine as a PDF for gradescope submission."
   ]
  },
  {
   "cell_type": "code",
   "execution_count": 1,
   "metadata": {
    "id": "Cc3cQL61lRWL"
   },
   "outputs": [],
   "source": [
    "import os\n",
    "import numpy as np\n",
    "import matplotlib.pyplot as plt\n",
    "import matplotlib.patches as patches"
   ]
  },
  {
   "cell_type": "markdown",
   "metadata": {
    "id": "pIh5Lx9fT8Mt"
   },
   "source": [
    "# Download data\n",
    "\n",
    "In this section we will download the data and setup the paths.\n"
   ]
  },
  {
   "cell_type": "code",
   "execution_count": 2,
   "metadata": {
    "colab": {
     "base_uri": "https://localhost:8080/"
    },
    "executionInfo": {
     "elapsed": 162785,
     "status": "ok",
     "timestamp": 1706248226504,
     "user": {
      "displayName": "Hung-Jui Huang",
      "userId": "04071754524072083319"
     },
     "user_tz": 300
    },
    "id": "7w824K_uTkkK",
    "outputId": "81c0add4-c32c-467b-89e6-634bf902f07e"
   },
   "outputs": [],
   "source": [
    "# Download the data\n",
    "if not os.path.exists('data/carseq.npy'):\n",
    "    !wget https://www.cs.cmu.edu/~deva/data/carseq.npy -O data/carseq.npy\n",
    "if not os.path.exists('data/girlseq.npy'):\n",
    "    !wget https://www.cs.cmu.edu/~deva/data/girlseq.npy -O data/girlseq.npy"
   ]
  },
  {
   "cell_type": "markdown",
   "metadata": {
    "id": "5a_TycAolRWN"
   },
   "source": [
    "# Q2.1: Theory Questions (5 points)\n",
    "Please refer to the handout for the detailed questions.\n",
    "\n",
    "## Q2.1.1: What is $\\frac{\\partial \\mathbf{W}(\\mathbf{x};\\mathbf{p})}{\\partial \\mathbf{p}^{T}}$? (**Hint**: It should be a 2x2 matrix)\n",
    "\n",
    "===== your answer here! =====\n",
    "\n",
    "\n",
    "===== end of your answer =====\n",
    "\n",
    "## Q2.1.2: What is $\\mathbf{A}$ and $\\mathbf{b}$?\n",
    "\n",
    "===== your answer here! =====\n",
    "\n",
    "\n",
    "===== end of your answer =====\n",
    "\n",
    "## Q2.1.3 What conditions must $\\mathbf{A}^{T}\\mathbf{A}$ meet so that a unique solution to $\\Delta \\mathbf{p}$ can be found?\n",
    "\n",
    "===== your answer here! =====\n",
    "\n",
    "\n",
    "===== end of your answer ====="
   ]
  },
  {
   "cell_type": "markdown",
   "metadata": {
    "id": "UEeiTXqGVSld"
   },
   "source": [
    "# Q2.2: Lucas-Kanade (20 points)\n",
    "Make sure to comment your code and use proper names for your variables."
   ]
  },
  {
   "cell_type": "code",
   "execution_count": null,
   "metadata": {
    "id": "rhqIUj37lRWO"
   },
   "outputs": [],
   "source": [
    "from scipy.interpolate import RectBivariateSpline\n",
    "from numpy.linalg import lstsq\n",
    "\n",
    "def LucasKanade(It, It1, rect, threshold, num_iters, p0=np.zeros(2)):\n",
    "    \"\"\"\n",
    "    :param[np.array(H, W)] It   : Grayscale image at time t [float]\n",
    "    :param[np.array(H, W)] It1  : Grayscale image at time t+1 [float]\n",
    "    :param[np.array(4, 1)] rect : [x1 y1 x2 y2] coordinates of the rectangular template to extract from the image at time t,\n",
    "                                  where [x1, y1] is the top-left, and [x2, y2] is the bottom-right. Note that coordinates\n",
    "                                  [floats] that maybe fractional.\n",
    "    :param[float] threshold     : If change in parameters is less than thresh, terminate the optimization\n",
    "    :param[int] num_iters       : Maximum number of optimization iterations\n",
    "    :param[np.array(2, 1)] p0   : Initial translation parameters [p_x0, p_y0] to add to rect, which defaults to [0 0]\n",
    "    :return[np.array(2, 1)] p   : Final translation parameters [p_x, p_y]\n",
    "    \"\"\"\n",
    "\n",
    "    # Initialize p to p0.\n",
    "    p = p0\n",
    "    # Iterate over num_iters\n",
    "    for i in range(num_iters):\n",
    "        template_t0 = None\n",
    "        template_t1 = None\n",
    "        # Construct [A] by computing image gradients at (possibly fractional) pixel locations.\n",
    "        A = \n",
    "        # construct a linear system (Ax=b) that solves for a x=delta_p update\n",
    "        delta_p = lstsq(A, b)\n",
    "        # update p\n",
    "        p += delta_p\n",
    "\n",
    "    # We suggest using RectBivariateSpline from scipy.interpolate to interpolate pixel values at fractional pixel locations\n",
    "    # We suggest using lstsq from numpy.linalg to solve the linear system\n",
    "    # Once you solve for [delta_p], add it to [p] (and move on to next iteration)\n",
    "    #\n",
    "    # HINT/WARNING:\n",
    "    # RectBivariateSpline and Meshgrid use inconsistent defaults with respect to 'xy' versus 'ij' indexing:\n",
    "    # https://docs.scipy.org/doc/scipy/reference/generated/scipy.interpolate.RectBivariateSpline.ev.html#scipy.interpolate.RectBivariateSpline.ev\n",
    "    # https://numpy.org/doc/stable/reference/generated/numpy.meshgrid.html\n",
    "\n",
    "\n",
    "    # ===== End of code =====\n",
    "    return p"
   ]
  },
  {
   "cell_type": "markdown",
   "metadata": {
    "id": "is0xI0eYlRWQ"
   },
   "source": [
    "## Debug Q2.2\n",
    "\n",
    "\n",
    "\n",
    "A few tips to debug your implementation:\n",
    "- Feel free to use and modify the following snippet to debug your implementation. The snippet simply visualizes the translation resulting from running LK on a single frame. You should be able to see a slight shift in the template.\n",
    "\n",
    "- You may also want to visualize the image gradients you compute within your LK implementation\n",
    "\n",
    "- Plot iterations vs the norm of delta_p"
   ]
  },
  {
   "cell_type": "code",
   "execution_count": null,
   "metadata": {
    "id": "im9BCWWFgMBf"
   },
   "outputs": [],
   "source": [
    "def draw_rect(rect,color):\n",
    "    w = rect[2] - rect[0]\n",
    "    h = rect[3] - rect[1]\n",
    "    plt.gca().add_patch(patches.Rectangle((rect[0],rect[1]), w, h, linewidth=1, edgecolor=color, facecolor='none'))\n"
   ]
  },
  {
   "cell_type": "code",
   "execution_count": null,
   "metadata": {
    "colab": {
     "base_uri": "https://localhost:8080/",
     "height": 272
    },
    "executionInfo": {
     "elapsed": 1045,
     "status": "ok",
     "timestamp": 1706248227920,
     "user": {
      "displayName": "Hung-Jui Huang",
      "userId": "04071754524072083319"
     },
     "user_tz": 300
    },
    "id": "g3mPRaxGlRWQ",
    "outputId": "f1bd4249-3017-4cf2-8b44-a50efbfa701a"
   },
   "outputs": [],
   "source": [
    "num_iters = 100\n",
    "threshold = 0.01\n",
    "seq = np.load(\"/content/carseq.npy\")\n",
    "rect = [59, 116, 145, 151]\n",
    "It = seq[:,:,0]\n",
    "\n",
    "# Source frame\n",
    "plt.figure()\n",
    "plt.subplot(1,2,1)\n",
    "plt.imshow(It, cmap='gray')\n",
    "plt.title('Source image')\n",
    "draw_rect(rect,'b')\n",
    "\n",
    "# Target frame + LK\n",
    "It1  = seq[:,:, 20]\n",
    "plt.subplot(1,2,2)\n",
    "plt.imshow(It1, cmap='gray')\n",
    "plt.title('Target image\\n (red = init, blue = final)')\n",
    "p = LucasKanade(It, It1, rect, threshold, num_iters, p0=np.zeros(2))\n",
    "rect_t1 = rect + np.concatenate((p,p))\n",
    "draw_rect(rect,'r')\n",
    "draw_rect(rect_t1,'b')\n"
   ]
  },
  {
   "cell_type": "markdown",
   "metadata": {
    "id": "-P8EC_6klRWR"
   },
   "source": [
    "## Q2.3: Tracking with template update (15 points)"
   ]
  },
  {
   "cell_type": "code",
   "execution_count": null,
   "metadata": {
    "id": "BO1wy5ovlRWR"
   },
   "outputs": [],
   "source": [
    "def TrackSequence(seq, rect, num_iters, threshold):\n",
    "    \"\"\"\n",
    "    :param seq       : (H, W, T), sequence of frames\n",
    "    :param rect      : (4, 1), coordinates of template in the initial frame. top-left and bottom-right corners.\n",
    "    :param num_iters : int, number of iterations for running the optimization\n",
    "    :param threshold : float, threshold for terminating the LK optimization\n",
    "    :return: rects   : (T, 4) tracked rectangles for each frame\n",
    "    \"\"\"\n",
    "    H, W, N = seq.shape\n",
    "\n",
    "    rects =[]\n",
    "    It = seq[:,:,0]\n",
    "\n",
    "    # Iterate over the car sequence and track the car\n",
    "    for i in range(seq.shape[2]):\n",
    "\n",
    "        # ===== your code here! =====\n",
    "        # TODO: add your code track the object of interest in the sequence\n",
    "\n",
    "        # ===== End of code =====\n",
    "\n",
    "    rects = np.array(rects)\n",
    "    assert rects.shape == (N, 4), f\"Your output sequence {rects.shape} is not ({N}x{4})\"\n",
    "    return rects"
   ]
  },
  {
   "cell_type": "markdown",
   "metadata": {
    "id": "Bb24guU6lRWS"
   },
   "source": [
    "### Q2.3 (a) - Track Car Sequence\n",
    "\n",
    "Run the following snippets. If you have implemented LucasKanade and TrackSequence function correctly, you should see the box tracking the car accurately. Please note that the tracking might drift slightly towards the end, and that is entirely normal.\n",
    "\n",
    "Feel free to play with these snippets of code by playing with the parameters."
   ]
  },
  {
   "cell_type": "code",
   "execution_count": null,
   "metadata": {
    "id": "rt7mLJ-mgMBi"
   },
   "outputs": [],
   "source": [
    "def visualize_track(seq,rects,frames):\n",
    "    # Visualize tracks on an image sequence for a select number of frames\n",
    "    plt.figure(figsize=(15,15))\n",
    "    for i in range(len(frames)):\n",
    "        idx = frames[i]\n",
    "        frame = seq[:, :, idx]\n",
    "        plt.subplot(1,len(frames),i+1)\n",
    "        plt.imshow(frame, cmap='gray')\n",
    "        plt.axis('off')\n",
    "        draw_rect(rects[idx],'b');"
   ]
  },
  {
   "cell_type": "code",
   "execution_count": null,
   "metadata": {
    "colab": {
     "base_uri": "https://localhost:8080/",
     "height": 187
    },
    "executionInfo": {
     "elapsed": 19806,
     "status": "ok",
     "timestamp": 1706248247722,
     "user": {
      "displayName": "Hung-Jui Huang",
      "userId": "04071754524072083319"
     },
     "user_tz": 300
    },
    "id": "hhghIRE-lRWS",
    "outputId": "2d9976da-b802-4d83-86af-44d1c6d34adb"
   },
   "outputs": [],
   "source": [
    "seq = np.load(\"/content/carseq.npy\")\n",
    "rect = [59, 116, 145, 151]\n",
    "\n",
    "# NOTE: feel free to play with these parameters\n",
    "num_iters = 10000\n",
    "threshold = 0.01\n",
    "\n",
    "rects = TrackSequence(seq, rect, num_iters, threshold)\n",
    "\n",
    "visualize_track(seq,rects,[0, 79, 159, 279, 409])"
   ]
  },
  {
   "cell_type": "markdown",
   "metadata": {
    "id": "oS7pXoHilRWT"
   },
   "source": [
    "### Q2.3 (b) - Track Girl Sequence\n",
    "\n",
    "Same as the car sequence."
   ]
  },
  {
   "cell_type": "code",
   "execution_count": null,
   "metadata": {
    "colab": {
     "base_uri": "https://localhost:8080/",
     "height": 187
    },
    "executionInfo": {
     "elapsed": 20347,
     "status": "ok",
     "timestamp": 1706248268058,
     "user": {
      "displayName": "Hung-Jui Huang",
      "userId": "04071754524072083319"
     },
     "user_tz": 300
    },
    "id": "L4sbhHJqlRWT",
    "outputId": "5ee6feca-2532-47b5-f54c-edacd76dbfaf"
   },
   "outputs": [],
   "source": [
    "# Loads the squence\n",
    "seq = np.load(\"/content/girlseq.npy\")\n",
    "rect = [280, 152, 330, 318]\n",
    "\n",
    "# NOTE: feel free to play with these parameters\n",
    "num_iters = 10000\n",
    "threshold = 0.01\n",
    "\n",
    "rects = TrackSequence(seq, rect, num_iters, threshold)\n",
    "\n",
    "visualize_track(seq,rects,[0, 14, 34, 64, 84])"
   ]
  }
 ],
 "metadata": {
  "colab": {
   "provenance": []
  },
  "kernelspec": {
   "display_name": "cv_hw1",
   "language": "python",
   "name": "python3"
  },
  "language_info": {
   "codemirror_mode": {
    "name": "ipython",
    "version": 3
   },
   "file_extension": ".py",
   "mimetype": "text/x-python",
   "name": "python",
   "nbconvert_exporter": "python",
   "pygments_lexer": "ipython3",
   "version": "3.11.8"
  }
 },
 "nbformat": 4,
 "nbformat_minor": 0
}
