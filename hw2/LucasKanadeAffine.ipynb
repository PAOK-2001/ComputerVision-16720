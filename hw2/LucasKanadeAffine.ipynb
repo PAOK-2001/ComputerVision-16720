{
 "cells": [
  {
   "cell_type": "markdown",
   "metadata": {
    "id": "V3_y0NxxTjRX"
   },
   "source": [
    "# Initialization\n",
    "\n",
    "Run the following code to import the modules you'll need. After your finish the assignment, **remember to run all cells** and save the note book to your local machine as a PDF for gradescope submission."
   ]
  },
  {
   "cell_type": "code",
   "execution_count": null,
   "metadata": {
    "id": "tSRneNrcrlXp"
   },
   "outputs": [],
   "source": [
    "import time\n",
    "import os\n",
    "import numpy as np\n",
    "import matplotlib.pyplot as plt\n",
    "import matplotlib.patches as patches"
   ]
  },
  {
   "cell_type": "markdown",
   "metadata": {
    "id": "pIh5Lx9fT8Mt"
   },
   "source": [
    "# Download data\n",
    "\n",
    "In this section we will download the data and setup the paths.\n"
   ]
  },
  {
   "cell_type": "code",
   "execution_count": null,
   "metadata": {
    "id": "7w824K_uTkkK"
   },
   "outputs": [],
   "source": [
    "# Download the data\n",
    "if not os.path.exists('/content/aerialseq.npy'):\n",
    "    !wget https://www.cs.cmu.edu/~deva/data/aerialseq.npy -O /content/aerialseq.npy\n",
    "if not os.path.exists('/content/antseq.npy'):\n",
    "    !wget https://www.cs.cmu.edu/~deva/data/antseq.npy -O /content/antseq.npy"
   ]
  },
  {
   "cell_type": "markdown",
   "metadata": {
    "id": "Yds4--pzrlXr"
   },
   "source": [
    "# Q3: Affine Motion Subtraction"
   ]
  },
  {
   "cell_type": "markdown",
   "metadata": {
    "id": "rsyMSrO2rlXs"
   },
   "source": [
    "## Q3.1: Dominant Motion Estimation (15 points)"
   ]
  },
  {
   "cell_type": "code",
   "execution_count": null,
   "metadata": {
    "id": "W9CMATJ8rlXt"
   },
   "outputs": [],
   "source": [
    "from scipy.interpolate import RectBivariateSpline\n",
    "\n",
    "def LucasKanadeAffine(It, It1, threshold, num_iters):\n",
    "    \"\"\"\n",
    "    :param It        : (H, W), current image\n",
    "    :param It1       : (H, W), next image\n",
    "    :param threshold : (float), if the length of dp < threshold, terminate the optimization\n",
    "    :param num_iters : (int), number of iterations for running the optimization\n",
    "\n",
    "    :return: M       : (2, 3) The affine transform matrix\n",
    "    \"\"\"\n",
    "    # Initial M\n",
    "    M = np.array([[1.0, 0.0, 0.0], [0.0, 1.0, 0.0]])\n",
    "\n",
    "    # ===== your code here! =====\n",
    "\n",
    "    # ===== End of code =====\n",
    "    return M"
   ]
  },
  {
   "cell_type": "markdown",
   "metadata": {
    "id": "is0xI0eYlRWQ"
   },
   "source": [
    "## Debug Q3.1\n",
    "\n",
    "\n",
    "\n",
    "Feel free to use and modify the following snippet to debug your implementation. The snippet simply visualizes the translation resulting from running LK on a single frame. When you warp the source frame using the obtained transformation matrix, it should resemble the target frame."
   ]
  },
  {
   "cell_type": "code",
   "execution_count": null,
   "metadata": {
    "colab": {
     "base_uri": "https://localhost:8080/",
     "height": 209
    },
    "executionInfo": {
     "elapsed": 28808,
     "status": "ok",
     "timestamp": 1706248713609,
     "user": {
      "displayName": "Hung-Jui Huang",
      "userId": "04071754524072083319"
     },
     "user_tz": 300
    },
    "id": "kqBSd3vcBZ-1",
    "outputId": "ecfc5e06-8e34-4b70-e31d-9178fa148920"
   },
   "outputs": [],
   "source": [
    "import cv2\n",
    "\n",
    "num_iters = 100\n",
    "threshold = 0.01\n",
    "seq = np.load(\"/content/aerialseq.npy\")\n",
    "It = seq[:,:,0]\n",
    "It1 = seq[:,:,10]\n",
    "\n",
    "# Source frame\n",
    "plt.figure()\n",
    "plt.subplot(1,3,1)\n",
    "plt.imshow(It, cmap='gray')\n",
    "plt.title('Source image')\n",
    "\n",
    "# Target frame\n",
    "plt.subplot(1,3,2)\n",
    "plt.imshow(It1, cmap='gray')\n",
    "plt.title('Target image')\n",
    "\n",
    "# Warped source frame\n",
    "M = LucasKanadeAffine(It, It1, threshold, num_iters)\n",
    "warped_It = cv2.warpAffine(It, M,(It.shape[1],It.shape[0]))\n",
    "plt.subplot(1,3,3)\n",
    "plt.imshow(warped_It, cmap='gray')\n",
    "plt.title('Warped Source image')"
   ]
  },
  {
   "cell_type": "markdown",
   "metadata": {
    "id": "J_CjFxGJrlXu"
   },
   "source": [
    "# Q3.2: Moving Object Detection (10 points)"
   ]
  },
  {
   "cell_type": "code",
   "execution_count": null,
   "metadata": {
    "id": "6uUM4B3FrlXu"
   },
   "outputs": [],
   "source": [
    "import numpy as np\n",
    "from scipy.ndimage import binary_erosion\n",
    "from scipy.ndimage import binary_dilation\n",
    "from scipy.ndimage import affine_transform\n",
    "import scipy.ndimage\n",
    "import cv2\n",
    "\n",
    "def SubtractDominantMotion(It, It1, num_iters, threshold, tolerance):\n",
    "    \"\"\"\n",
    "    :param It        : (H, W), current image\n",
    "    :param It1       : (H, W), next image\n",
    "    :param num_iters : (int), number of iterations for running the optimization\n",
    "    :param threshold : (float), if the length of dp < threshold, terminate the optimization\n",
    "    :param tolerance : (float), binary threshold of intensity difference when computing the mask\n",
    "    :return: mask    : (H, W), the mask of the moved object\n",
    "    \"\"\"\n",
    "    mask = np.ones(It.shape, dtype=bool)\n",
    "\n",
    "    # ===== your code here! =====\n",
    "\n",
    "    # ===== End of code =====\n",
    "\n",
    "    return mask\n"
   ]
  },
  {
   "cell_type": "markdown",
   "metadata": {
    "id": "obEwRRm0rlXv"
   },
   "source": [
    "## Q3.3: Tracking with affine motion (10 points)"
   ]
  },
  {
   "cell_type": "code",
   "execution_count": null,
   "metadata": {
    "id": "UnTJd6cPrlXv"
   },
   "outputs": [],
   "source": [
    "from tqdm import tqdm\n",
    "\n",
    "def TrackSequenceAffineMotion(seq, num_iters, threshold, tolerance):\n",
    "    \"\"\"\n",
    "    :param seq       : (H, W, T), sequence of frames\n",
    "    :param num_iters : int, number of iterations for running the optimization\n",
    "    :param threshold : float, if the length of dp < threshold, terminate the optimization\n",
    "    :param tolerance : (float), binary threshold of intensity difference when computing the mask\n",
    "    :return: masks   : (T, 4) moved objects for each frame\n",
    "    \"\"\"\n",
    "    H, W, N = seq.shape\n",
    "\n",
    "    rects =[]\n",
    "    It = seq[:,:,0]\n",
    "\n",
    "    # ===== your code here! =====\n",
    "    for i in tqdm(range(1, seq.shape[2])):\n",
    "        pass\n",
    "\n",
    "    # ===== End of code =====\n",
    "    masks = np.stack(masks, axis=2)\n",
    "    return masks"
   ]
  },
  {
   "cell_type": "markdown",
   "metadata": {
    "id": "NEhkHOhXrlXv"
   },
   "source": [
    "## Q3.3 (a) - Track Ant Sequence"
   ]
  },
  {
   "cell_type": "code",
   "execution_count": null,
   "metadata": {
    "colab": {
     "base_uri": "https://localhost:8080/"
    },
    "executionInfo": {
     "elapsed": 90843,
     "status": "ok",
     "timestamp": 1706248804448,
     "user": {
      "displayName": "Hung-Jui Huang",
      "userId": "04071754524072083319"
     },
     "user_tz": 300
    },
    "id": "DUZzt_zBrlXv",
    "outputId": "3b335083-5205-4027-deac-285bc7b47c69"
   },
   "outputs": [],
   "source": [
    "seq = np.load(\"/content/antseq.npy\")\n",
    "\n",
    "# NOTE: feel free to play with these parameters\n",
    "num_iters = 1000\n",
    "threshold = 0.01\n",
    "tolerance = 0.2\n",
    "\n",
    "tic = time.time()\n",
    "masks = TrackSequenceAffineMotion(seq, num_iters, threshold, tolerance)\n",
    "toc = time.time()\n",
    "print('\\nAnt Sequence takes %f seconds' % (toc - tic))"
   ]
  },
  {
   "cell_type": "code",
   "execution_count": null,
   "metadata": {
    "colab": {
     "base_uri": "https://localhost:8080/",
     "height": 1000
    },
    "executionInfo": {
     "elapsed": 1351,
     "status": "ok",
     "timestamp": 1706248805796,
     "user": {
      "displayName": "Hung-Jui Huang",
      "userId": "04071754524072083319"
     },
     "user_tz": 300
    },
    "id": "myjyTsENrlXv",
    "outputId": "23552812-4a57-48ea-b421-835cfde6fa96"
   },
   "outputs": [],
   "source": [
    "frames_to_save = [29, 59, 89, 119]\n",
    "\n",
    "# TODO: visualize\n",
    "for idx in frames_to_save:\n",
    "    frame = seq[:, :, idx]\n",
    "    mask = masks[:, :, idx]\n",
    "\n",
    "    plt.figure()\n",
    "    plt.imshow(frame, cmap=\"gray\", alpha=0.5)\n",
    "    plt.imshow(np.ma.masked_where(np.invert(mask), mask), cmap='winter', alpha=0.8)\n",
    "    plt.axis('off')\n"
   ]
  },
  {
   "cell_type": "markdown",
   "metadata": {
    "id": "BgDHe1TOrlXw"
   },
   "source": [
    "### Q3.3 (b) - Track Aerial Sequence"
   ]
  },
  {
   "cell_type": "code",
   "execution_count": null,
   "metadata": {
    "colab": {
     "base_uri": "https://localhost:8080/"
    },
    "executionInfo": {
     "elapsed": 224227,
     "status": "ok",
     "timestamp": 1706249030020,
     "user": {
      "displayName": "Hung-Jui Huang",
      "userId": "04071754524072083319"
     },
     "user_tz": 300
    },
    "id": "R6aNd6vgrlXw",
    "outputId": "31ae6529-2315-412b-b489-82657ff4f6ec"
   },
   "outputs": [],
   "source": [
    "seq = np.load(\"/content/aerialseq.npy\")\n",
    "\n",
    "# NOTE: feel free to play with these parameters\n",
    "num_iters = 1000\n",
    "threshold = 0.01\n",
    "tolerance = 0.2\n",
    "\n",
    "tic = time.time()\n",
    "masks = TrackSequenceAffineMotion(seq, num_iters, threshold, tolerance)\n",
    "toc = time.time()\n",
    "print('\\nAnt Sequence takes %f seconds' % (toc - tic))"
   ]
  },
  {
   "cell_type": "code",
   "execution_count": null,
   "metadata": {
    "colab": {
     "base_uri": "https://localhost:8080/",
     "height": 1000
    },
    "executionInfo": {
     "elapsed": 1310,
     "status": "ok",
     "timestamp": 1706249031317,
     "user": {
      "displayName": "Hung-Jui Huang",
      "userId": "04071754524072083319"
     },
     "user_tz": 300
    },
    "id": "wz_Syu8JrlXw",
    "outputId": "48de09dd-da8d-4647-abf6-0577da435fd6"
   },
   "outputs": [],
   "source": [
    "frames_to_save = [29, 59, 89, 119]\n",
    "\n",
    "# TODO: visualize\n",
    "for idx in frames_to_save:\n",
    "    frame = seq[:, :, idx]\n",
    "    mask = masks[:, :, idx]\n",
    "\n",
    "    plt.figure()\n",
    "    plt.imshow(frame, cmap=\"gray\", alpha=0.5)\n",
    "    plt.imshow(np.ma.masked_where(np.invert(mask), mask), cmap='winter', alpha=0.8)\n",
    "    plt.axis('off')"
   ]
  }
 ],
 "metadata": {
  "colab": {
   "provenance": []
  },
  "kernelspec": {
   "display_name": "16720",
   "language": "python",
   "name": "python3"
  },
  "language_info": {
   "codemirror_mode": {
    "name": "ipython",
    "version": 3
   },
   "file_extension": ".py",
   "mimetype": "text/x-python",
   "name": "python",
   "nbconvert_exporter": "python",
   "pygments_lexer": "ipython3",
   "version": "3.9.15 | packaged by conda-forge | (main, Nov 22 2022, 15:55:03) \n[GCC 10.4.0]"
  },
  "orig_nbformat": 4,
  "vscode": {
   "interpreter": {
    "hash": "8efbe5fc9e91c36adebc05347b1801574da82ef48176c042bd1362b18b593ca9"
   }
  }
 },
 "nbformat": 4,
 "nbformat_minor": 0
}
